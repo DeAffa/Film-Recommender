{
  "nbformat": 4,
  "nbformat_minor": 0,
  "metadata": {
    "colab": {
      "provenance": [],
      "gpuType": "T4"
    },
    "kernelspec": {
      "name": "python3",
      "display_name": "Python 3"
    },
    "language_info": {
      "name": "python"
    },
    "accelerator": "GPU"
  },
  "cells": [
    {
      "cell_type": "markdown",
      "source": [
        "# Load Dataset"
      ],
      "metadata": {
        "id": "VjAbWgGr2zob"
      }
    },
    {
      "cell_type": "code",
      "execution_count": 39,
      "metadata": {
        "colab": {
          "base_uri": "https://localhost:8080/"
        },
        "id": "sjSUHA4tuiEq",
        "outputId": "d21ab95b-da8a-4b9d-a598-399a4ccb1672"
      },
      "outputs": [
        {
          "output_type": "stream",
          "name": "stdout",
          "text": [
            "Dataset sudah ada, tidak perlu diunduh ulang.\n",
            "Jumlah pengguna: 6040\n",
            "Jumlah film: 3883\n",
            "Jumlah rating: 1000209\n"
          ]
        }
      ],
      "source": [
        "import pandas as pd\n",
        "import os\n",
        "import zipfile\n",
        "import urllib.request\n",
        "\n",
        "# Unduh dataset MovieLens 1M dari URL resmi\n",
        "url = 'https://files.grouplens.org/datasets/movielens/ml-1m.zip'\n",
        "dataset_path = 'ml-1m.zip'\n",
        "\n",
        "if not os.path.exists('ml-1m'):\n",
        "    print(\"Mengunduh dataset MovieLens 1M...\")\n",
        "    urllib.request.urlretrieve(url, dataset_path)\n",
        "\n",
        "    # Ekstrak file ZIP\n",
        "    with zipfile.ZipFile(dataset_path, 'r') as zip_ref:\n",
        "        zip_ref.extractall()\n",
        "\n",
        "    print(\"Ekstraksi selesai.\")\n",
        "else:\n",
        "    print(\"Dataset sudah ada, tidak perlu diunduh ulang.\")\n",
        "\n",
        "# Load users.dat\n",
        "users = pd.read_csv('ml-1m/users.dat', sep='::', engine='python',\n",
        "                    names=['UserID', 'Gender', 'Age', 'Occupation', 'Zip-code'])\n",
        "\n",
        "# Load movies.dat\n",
        "# Specify encoding as 'latin-1' or 'cp1252' to handle non-UTF-8 characters\n",
        "movies = pd.read_csv('ml-1m/movies.dat', sep='::', engine='python',\n",
        "                     names=['MovieID', 'Title', 'Genres'], encoding='latin-1')\n",
        "\n",
        "# Load ratings.dat\n",
        "ratings = pd.read_csv('ml-1m/ratings.dat', sep='::', engine='python',\n",
        "                      names=['UserID', 'MovieID', 'Rating', 'Timestamp'])\n",
        "\n",
        "# Tampilkan ringkasan\n",
        "print(f\"Jumlah pengguna: {users.shape[0]}\")\n",
        "print(f\"Jumlah film: {movies.shape[0]}\")\n",
        "print(f\"Jumlah rating: {ratings.shape[0]}\")"
      ]
    },
    {
      "cell_type": "markdown",
      "source": [
        "# Data Understanding"
      ],
      "metadata": {
        "id": "Drg65KvU3OGy"
      }
    },
    {
      "cell_type": "markdown",
      "source": [
        "## Informasi Umum Dataset"
      ],
      "metadata": {
        "id": "pa4HhUtwBodB"
      }
    },
    {
      "cell_type": "markdown",
      "source": [
        "### Data Users"
      ],
      "metadata": {
        "id": "vzpcbFyAM0vP"
      }
    },
    {
      "cell_type": "code",
      "source": [
        "# Contoh data\n",
        "print(\"\\nContoh pengguna:\")\n",
        "print(users.head())"
      ],
      "metadata": {
        "colab": {
          "base_uri": "https://localhost:8080/"
        },
        "id": "CGPCgz_D29Jh",
        "outputId": "a8382c78-2b4d-4b48-d468-519028ee1b9e"
      },
      "execution_count": 40,
      "outputs": [
        {
          "output_type": "stream",
          "name": "stdout",
          "text": [
            "\n",
            "Contoh pengguna:\n",
            "   UserID Gender  Age  Occupation Zip-code\n",
            "0       1      F    1          10    48067\n",
            "1       2      M   56          16    70072\n",
            "2       3      M   25          15    55117\n",
            "3       4      M   45           7    02460\n",
            "4       5      M   25          20    55455\n"
          ]
        }
      ]
    },
    {
      "cell_type": "code",
      "source": [
        "# Ukuran data\n",
        "print(f\"Jumlah baris: {users.shape[0]}\")\n",
        "print(f\"Jumlah kolom: {users.shape[1]}\")\n",
        "\n",
        "# Info data\n",
        "users.info()"
      ],
      "metadata": {
        "id": "J1Idb_XP3CYE",
        "colab": {
          "base_uri": "https://localhost:8080/"
        },
        "outputId": "c03225e7-ba25-423e-9703-67c07ffe1428"
      },
      "execution_count": 41,
      "outputs": [
        {
          "output_type": "stream",
          "name": "stdout",
          "text": [
            "Jumlah baris: 6040\n",
            "Jumlah kolom: 5\n",
            "<class 'pandas.core.frame.DataFrame'>\n",
            "RangeIndex: 6040 entries, 0 to 6039\n",
            "Data columns (total 5 columns):\n",
            " #   Column      Non-Null Count  Dtype \n",
            "---  ------      --------------  ----- \n",
            " 0   UserID      6040 non-null   int64 \n",
            " 1   Gender      6040 non-null   object\n",
            " 2   Age         6040 non-null   int64 \n",
            " 3   Occupation  6040 non-null   int64 \n",
            " 4   Zip-code    6040 non-null   object\n",
            "dtypes: int64(3), object(2)\n",
            "memory usage: 236.1+ KB\n"
          ]
        }
      ]
    },
    {
      "cell_type": "code",
      "source": [
        "# Cek Data Kosong\n",
        "print(\"\\nJumlah data kosong:\")\n",
        "print(users.isnull().sum())"
      ],
      "metadata": {
        "colab": {
          "base_uri": "https://localhost:8080/"
        },
        "id": "Zhbaz9BjqTE4",
        "outputId": "02dca8eb-186a-4dfb-9e02-3f7f0c23f68e"
      },
      "execution_count": 42,
      "outputs": [
        {
          "output_type": "stream",
          "name": "stdout",
          "text": [
            "\n",
            "Jumlah data kosong:\n",
            "UserID        0\n",
            "Gender        0\n",
            "Age           0\n",
            "Occupation    0\n",
            "Zip-code      0\n",
            "dtype: int64\n"
          ]
        }
      ]
    },
    {
      "cell_type": "code",
      "source": [
        "# Cek Data Duplikat\n",
        "print(\"\\nJumlah data duplikat:\")\n",
        "print(users.duplicated().sum())"
      ],
      "metadata": {
        "colab": {
          "base_uri": "https://localhost:8080/"
        },
        "id": "Y0W-yWjLqWpt",
        "outputId": "18932337-1261-4898-c737-44ea217849d3"
      },
      "execution_count": 43,
      "outputs": [
        {
          "output_type": "stream",
          "name": "stdout",
          "text": [
            "\n",
            "Jumlah data duplikat:\n",
            "0\n"
          ]
        }
      ]
    },
    {
      "cell_type": "markdown",
      "source": [
        "### Data Ratings"
      ],
      "metadata": {
        "id": "Wa0DekrBM4pW"
      }
    },
    {
      "cell_type": "code",
      "source": [
        "print(\"\\nContoh rating:\")\n",
        "print(ratings.head())"
      ],
      "metadata": {
        "colab": {
          "base_uri": "https://localhost:8080/"
        },
        "id": "j9ZB5lrJR9n5",
        "outputId": "499901ae-3965-4678-e44e-257b5c9b2317"
      },
      "execution_count": 44,
      "outputs": [
        {
          "output_type": "stream",
          "name": "stdout",
          "text": [
            "\n",
            "Contoh rating:\n",
            "   UserID  MovieID  Rating  Timestamp\n",
            "0       1     1193       5  978300760\n",
            "1       1      661       3  978302109\n",
            "2       1      914       3  978301968\n",
            "3       1     3408       4  978300275\n",
            "4       1     2355       5  978824291\n"
          ]
        }
      ]
    },
    {
      "cell_type": "code",
      "source": [
        "# Ukuran data\n",
        "print(f\"Jumlah baris: {ratings.shape[0]}\")\n",
        "print(f\"Jumlah kolom: {ratings.shape[1]}\")\n",
        "\n",
        "# Info data\n",
        "ratings.info()"
      ],
      "metadata": {
        "colab": {
          "base_uri": "https://localhost:8080/"
        },
        "id": "MS0kXZaAMo9Z",
        "outputId": "0a63fa3a-dbe2-462e-9a8a-19671e091196"
      },
      "execution_count": 45,
      "outputs": [
        {
          "output_type": "stream",
          "name": "stdout",
          "text": [
            "Jumlah baris: 1000209\n",
            "Jumlah kolom: 4\n",
            "<class 'pandas.core.frame.DataFrame'>\n",
            "RangeIndex: 1000209 entries, 0 to 1000208\n",
            "Data columns (total 4 columns):\n",
            " #   Column     Non-Null Count    Dtype\n",
            "---  ------     --------------    -----\n",
            " 0   UserID     1000209 non-null  int64\n",
            " 1   MovieID    1000209 non-null  int64\n",
            " 2   Rating     1000209 non-null  int64\n",
            " 3   Timestamp  1000209 non-null  int64\n",
            "dtypes: int64(4)\n",
            "memory usage: 30.5 MB\n"
          ]
        }
      ]
    },
    {
      "cell_type": "code",
      "source": [
        "# Cek Data Kosong\n",
        "print(\"\\nJumlah data kosong:\")\n",
        "print(ratings.isnull().sum())"
      ],
      "metadata": {
        "colab": {
          "base_uri": "https://localhost:8080/"
        },
        "id": "07xzIOxFqhEV",
        "outputId": "26bec290-6f78-4d05-84c1-2e9cce3b6f28"
      },
      "execution_count": 46,
      "outputs": [
        {
          "output_type": "stream",
          "name": "stdout",
          "text": [
            "\n",
            "Jumlah data kosong:\n",
            "UserID       0\n",
            "MovieID      0\n",
            "Rating       0\n",
            "Timestamp    0\n",
            "dtype: int64\n"
          ]
        }
      ]
    },
    {
      "cell_type": "code",
      "source": [
        "# Cek Data Duplikat\n",
        "print(\"\\nJumlah data duplikat:\")\n",
        "print(ratings.duplicated().sum())"
      ],
      "metadata": {
        "colab": {
          "base_uri": "https://localhost:8080/"
        },
        "id": "xG25Wy0oqj31",
        "outputId": "fa785a04-2de7-461c-eeb3-f31eefe5ecde"
      },
      "execution_count": 47,
      "outputs": [
        {
          "output_type": "stream",
          "name": "stdout",
          "text": [
            "\n",
            "Jumlah data duplikat:\n",
            "0\n"
          ]
        }
      ]
    },
    {
      "cell_type": "markdown",
      "source": [
        "### Data Movies"
      ],
      "metadata": {
        "id": "Whxyqj32M7-u"
      }
    },
    {
      "cell_type": "code",
      "source": [
        "print(\"\\n contoh film:\")\n",
        "print(movies.head())"
      ],
      "metadata": {
        "colab": {
          "base_uri": "https://localhost:8080/"
        },
        "id": "3DWj65jS3ALu",
        "outputId": "b572ec40-24ec-40db-8e25-a0abe953f3c8"
      },
      "execution_count": 48,
      "outputs": [
        {
          "output_type": "stream",
          "name": "stdout",
          "text": [
            "\n",
            " contoh film:\n",
            "   MovieID                               Title                        Genres\n",
            "0        1                    Toy Story (1995)   Animation|Children's|Comedy\n",
            "1        2                      Jumanji (1995)  Adventure|Children's|Fantasy\n",
            "2        3             Grumpier Old Men (1995)                Comedy|Romance\n",
            "3        4            Waiting to Exhale (1995)                  Comedy|Drama\n",
            "4        5  Father of the Bride Part II (1995)                        Comedy\n"
          ]
        }
      ]
    },
    {
      "cell_type": "code",
      "source": [
        "# Ukuran data\n",
        "print(f\"Jumlah baris: {movies.shape[0]}\")\n",
        "print(f\"Jumlah kolom: {movies.shape[1]}\")\n",
        "\n",
        "# Info data\n",
        "movies.info()"
      ],
      "metadata": {
        "colab": {
          "base_uri": "https://localhost:8080/"
        },
        "id": "uL7avsPsMswa",
        "outputId": "647f9e00-2062-4be1-8a54-b90f847007a6"
      },
      "execution_count": 49,
      "outputs": [
        {
          "output_type": "stream",
          "name": "stdout",
          "text": [
            "Jumlah baris: 3883\n",
            "Jumlah kolom: 3\n",
            "<class 'pandas.core.frame.DataFrame'>\n",
            "RangeIndex: 3883 entries, 0 to 3882\n",
            "Data columns (total 3 columns):\n",
            " #   Column   Non-Null Count  Dtype \n",
            "---  ------   --------------  ----- \n",
            " 0   MovieID  3883 non-null   int64 \n",
            " 1   Title    3883 non-null   object\n",
            " 2   Genres   3883 non-null   object\n",
            "dtypes: int64(1), object(2)\n",
            "memory usage: 91.1+ KB\n"
          ]
        }
      ]
    },
    {
      "cell_type": "code",
      "source": [
        "# Cek Data Kosong\n",
        "print(\"\\nJumlah data kosong:\")\n",
        "print(movies.isnull().sum())"
      ],
      "metadata": {
        "colab": {
          "base_uri": "https://localhost:8080/"
        },
        "id": "JraooM2xqnIi",
        "outputId": "a97627f3-51c6-4d60-db93-e8a790159000"
      },
      "execution_count": 50,
      "outputs": [
        {
          "output_type": "stream",
          "name": "stdout",
          "text": [
            "\n",
            "Jumlah data kosong:\n",
            "MovieID    0\n",
            "Title      0\n",
            "Genres     0\n",
            "dtype: int64\n"
          ]
        }
      ]
    },
    {
      "cell_type": "code",
      "source": [
        "# Cek Data Duplikat\n",
        "print(\"\\nJumlah data duplikat:\")\n",
        "print(movies.duplicated().sum())"
      ],
      "metadata": {
        "colab": {
          "base_uri": "https://localhost:8080/"
        },
        "id": "K1aUojc5qqKw",
        "outputId": "5436098c-a05e-4629-e92f-44861834a815"
      },
      "execution_count": 51,
      "outputs": [
        {
          "output_type": "stream",
          "name": "stdout",
          "text": [
            "\n",
            "Jumlah data duplikat:\n",
            "0\n"
          ]
        }
      ]
    },
    {
      "cell_type": "markdown",
      "source": [
        "## Exploratory Data Analysis"
      ],
      "metadata": {
        "id": "MXL_ssy9CI-3"
      }
    },
    {
      "cell_type": "code",
      "source": [
        "import pandas as pd\n",
        "import matplotlib.pyplot as plt\n",
        "import seaborn as sns"
      ],
      "metadata": {
        "id": "cePdQqFhBxnx"
      },
      "execution_count": 52,
      "outputs": []
    },
    {
      "cell_type": "markdown",
      "source": [
        "### Distribusi Genre Film"
      ],
      "metadata": {
        "id": "MHKA-hvNB2jb"
      }
    },
    {
      "cell_type": "code",
      "source": [
        "from collections import Counter\n",
        "\n",
        "# Pisahkan genre karena ada banyak genre dalam satu sel\n",
        "genre_list = movies['Genres'].str.split('|').sum()\n",
        "genre_count = Counter(genre_list)\n",
        "\n",
        "# Konversi ke DataFrame\n",
        "genre_df = pd.DataFrame(genre_count.items(), columns=['Genre', 'Jumlah'])\n",
        "\n",
        "# Visualisasikan\n",
        "plt.figure(figsize=(10, 6))\n",
        "sns.barplot(data=genre_df.sort_values('Jumlah', ascending=False), x='Jumlah', y='Genre', palette='coolwarm')\n",
        "plt.title('Frekuensi Genre Film')\n",
        "plt.xlabel('Jumlah')\n",
        "plt.ylabel('Genre')\n",
        "plt.show()"
      ],
      "metadata": {
        "colab": {
          "base_uri": "https://localhost:8080/",
          "height": 671
        },
        "id": "9a_bzQEuBEoJ",
        "outputId": "2fe48908-d5aa-4919-dc9d-06372c86a60f"
      },
      "execution_count": 53,
      "outputs": [
        {
          "output_type": "stream",
          "name": "stderr",
          "text": [
            "<ipython-input-53-2066625840>:12: FutureWarning: \n",
            "\n",
            "Passing `palette` without assigning `hue` is deprecated and will be removed in v0.14.0. Assign the `y` variable to `hue` and set `legend=False` for the same effect.\n",
            "\n",
            "  sns.barplot(data=genre_df.sort_values('Jumlah', ascending=False), x='Jumlah', y='Genre', palette='coolwarm')\n"
          ]
        },
        {
          "output_type": "display_data",
          "data": {
            "text/plain": [
              "<Figure size 1000x600 with 1 Axes>"
            ],
            "image/png": "[encoded data removed]"
          },
          "metadata": {}
        }
      ]
    },
    {
      "cell_type": "markdown",
      "source": [
        "### Distribusi Rating Film"
      ],
      "metadata": {
        "id": "7TtZGfNbCBIZ"
      }
    },
    {
      "cell_type": "code",
      "source": [
        "import matplotlib.pyplot as plt\n",
        "import seaborn as sns\n",
        "\n",
        "plt.figure(figsize=(8, 5))\n",
        "sns.countplot(x='Rating', data=ratings, palette='viridis')\n",
        "plt.title('Distribusi Rating Film')\n",
        "plt.xlabel('Rating')\n",
        "plt.ylabel('Jumlah')\n",
        "plt.show()"
      ],
      "metadata": {
        "colab": {
          "base_uri": "https://localhost:8080/",
          "height": 594
        },
        "id": "VmTI7RDACCf7",
        "outputId": "48ac1db5-28c2-4176-eff6-0c17075d62a8"
      },
      "execution_count": 54,
      "outputs": [
        {
          "output_type": "stream",
          "name": "stderr",
          "text": [
            "<ipython-input-54-135907497>:5: FutureWarning: \n",
            "\n",
            "Passing `palette` without assigning `hue` is deprecated and will be removed in v0.14.0. Assign the `x` variable to `hue` and set `legend=False` for the same effect.\n",
            "\n",
            "  sns.countplot(x='Rating', data=ratings, palette='viridis')\n"
          ]
        },
        {
          "output_type": "display_data",
          "data": {
            "text/plain": [
              "<Figure size 800x500 with 1 Axes>"
            ],
            "image/png": "[encoded data removed]"
          },
          "metadata": {}
        }
      ]
    },
    {
      "cell_type": "markdown",
      "source": [
        "### Distribusi Jumlah Rating per Pengguna"
      ],
      "metadata": {
        "id": "3XgLvd-_CLAx"
      }
    },
    {
      "cell_type": "code",
      "source": [
        "user_rating_count = ratings.groupby('UserID')['Rating'].count()\n",
        "\n",
        "plt.figure(figsize=(8, 5))\n",
        "sns.histplot(user_rating_count, bins=50, kde=True)\n",
        "plt.title('Distribusi Jumlah Rating per Pengguna')\n",
        "plt.xlabel('Jumlah Rating')\n",
        "plt.ylabel('Jumlah Pengguna')\n",
        "plt.show()"
      ],
      "metadata": {
        "colab": {
          "base_uri": "https://localhost:8080/",
          "height": 487
        },
        "id": "U_Txy-pGCMmp",
        "outputId": "03951007-dc88-4c4e-952f-8e7c0d3a5a58"
      },
      "execution_count": 55,
      "outputs": [
        {
          "output_type": "display_data",
          "data": {
            "text/plain": [
              "<Figure size 800x500 with 1 Axes>"
            ],
            "image/png": "[encoded data removed]"
          },
          "metadata": {}
        }
      ]
    },
    {
      "cell_type": "markdown",
      "source": [
        "## 🔍 Kesimpulan Data Understanding\n",
        "\n",
        "Berdasarkan proses pemahaman data yang telah dilakukan terhadap MovieLens 1M Dataset, diperoleh beberapa kesimpulan penting sebagai berikut:\n",
        "\n",
        "- **Dataset yang digunakan sangat lengkap dan bersih**, tanpa nilai kosong maupun duplikat.\n",
        "- Terdapat **1 juta interaksi (rating)** dari 6.040 pengguna terhadap 3.883 film, dengan informasi pendukung berupa usia, gender, genre film, dan lainnya.\n",
        "- **Genre film paling umum** adalah *Drama*, *Comedy*, dan *Action*, dengan beberapa film memiliki lebih dari satu genre.\n",
        "- **Sebagian besar pengguna memberikan rating di angka 3 atau 4**, menunjukkan kecenderungan netral hingga positif dalam penilaian film.\n",
        "- **Beberapa pengguna sangat aktif**, memberikan ratusan hingga ribuan rating.\n",
        "\n",
        "Informasi-informasi ini akan sangat membantu dalam menentukan pendekatan terbaik untuk membangun sistem rekomendasi, baik melalui Content-Based Filtering maupun Collaborative Filtering.\n"
      ],
      "metadata": {
        "id": "Y3TD-aC8qNp6"
      }
    },
    {
      "cell_type": "markdown",
      "source": [
        "# Data Preparation"
      ],
      "metadata": {
        "id": "YQEZpmtXrd--"
      }
    },
    {
      "cell_type": "markdown",
      "source": [
        "## Menghapus kolom/fitur yang tidak relevan"
      ],
      "metadata": {
        "id": "UXjvjbOj42El"
      }
    },
    {
      "cell_type": "code",
      "source": [
        "# Menghapus kolom/fitur yang tidak relevan pada data users\n",
        "# Gunakan metode drop() untuk menghapus kolom\n",
        "users_clean = users.drop(['Gender', 'Age', 'Occupation', 'Zip-code'], axis=1, inplace=True)\n",
        "\n",
        "# Opsional: Tampilkan info setelah menghapus kolom untuk verifikasi\n",
        "print(\"\\nInfo data users setelah menghapus kolom Age:\")\n",
        "users.info()"
      ],
      "metadata": {
        "colab": {
          "base_uri": "https://localhost:8080/"
        },
        "id": "amjQ26JqqN7E",
        "outputId": "1d12104d-505c-49b8-bb76-a4f47ea39c07"
      },
      "execution_count": 56,
      "outputs": [
        {
          "output_type": "stream",
          "name": "stdout",
          "text": [
            "\n",
            "Info data users setelah menghapus kolom Age:\n",
            "<class 'pandas.core.frame.DataFrame'>\n",
            "RangeIndex: 6040 entries, 0 to 6039\n",
            "Data columns (total 1 columns):\n",
            " #   Column  Non-Null Count  Dtype\n",
            "---  ------  --------------  -----\n",
            " 0   UserID  6040 non-null   int64\n",
            "dtypes: int64(1)\n",
            "memory usage: 47.3 KB\n"
          ]
        }
      ]
    },
    {
      "cell_type": "code",
      "source": [
        "# Menghapus kolom/fitur yang tidak relevan pada data ratings\n",
        "ratings_clean = ratings.drop(['Timestamp'], axis=1, inplace=True)\n",
        "\n",
        "# Opsional: Tampilkan info setelah menghapus kolom untuk verifikasi\n",
        "print(\"\\nInfo data ratings setelah menghapus kolom Timestamp:\")\n",
        "ratings.info()"
      ],
      "metadata": {
        "colab": {
          "base_uri": "https://localhost:8080/"
        },
        "id": "jLpDjJW2sk0L",
        "outputId": "192b11b9-e121-4927-e322-39a773073380"
      },
      "execution_count": 57,
      "outputs": [
        {
          "output_type": "stream",
          "name": "stdout",
          "text": [
            "\n",
            "Info data ratings setelah menghapus kolom Timestamp:\n",
            "<class 'pandas.core.frame.DataFrame'>\n",
            "RangeIndex: 1000209 entries, 0 to 1000208\n",
            "Data columns (total 3 columns):\n",
            " #   Column   Non-Null Count    Dtype\n",
            "---  ------   --------------    -----\n",
            " 0   UserID   1000209 non-null  int64\n",
            " 1   MovieID  1000209 non-null  int64\n",
            " 2   Rating   1000209 non-null  int64\n",
            "dtypes: int64(3)\n",
            "memory usage: 22.9 MB\n"
          ]
        }
      ]
    },
    {
      "cell_type": "code",
      "source": [
        "# Menghapus Kolom Index\n",
        "movies.reset_index(drop=True, inplace=True)"
      ],
      "metadata": {
        "id": "UtX0BlQ3IH_5"
      },
      "execution_count": 58,
      "outputs": []
    },
    {
      "cell_type": "markdown",
      "source": [
        "## Menggabungkan dataset"
      ],
      "metadata": {
        "id": "VNJpmbdB47O1"
      }
    },
    {
      "cell_type": "code",
      "source": [
        "# Merge ratings dengan movies\n",
        "ratings_movies = pd.merge(ratings, movies, on='MovieID')\n",
        "\n",
        "# Merge dengan users\n",
        "all_data = pd.merge(ratings_movies, users, on='UserID')\n",
        "\n",
        "# Cek hasil merge\n",
        "print(\"Data gabungan:\")\n",
        "print(all_data.head())"
      ],
      "metadata": {
        "colab": {
          "base_uri": "https://localhost:8080/"
        },
        "id": "uGqSAobBtsrr",
        "outputId": "204d7ae6-aa49-475b-ea98-4bf3a7990d71"
      },
      "execution_count": 59,
      "outputs": [
        {
          "output_type": "stream",
          "name": "stdout",
          "text": [
            "Data gabungan:\n",
            "   UserID  MovieID  Rating                                   Title  \\\n",
            "0       1     1193       5  One Flew Over the Cuckoo's Nest (1975)   \n",
            "1       1      661       3        James and the Giant Peach (1996)   \n",
            "2       1      914       3                     My Fair Lady (1964)   \n",
            "3       1     3408       4                  Erin Brockovich (2000)   \n",
            "4       1     2355       5                    Bug's Life, A (1998)   \n",
            "\n",
            "                         Genres  \n",
            "0                         Drama  \n",
            "1  Animation|Children's|Musical  \n",
            "2               Musical|Romance  \n",
            "3                         Drama  \n",
            "4   Animation|Children's|Comedy  \n"
          ]
        }
      ]
    },
    {
      "cell_type": "markdown",
      "source": [
        "## Filtering dengan Rating >+ 3"
      ],
      "metadata": {
        "id": "_x6kPxHK7b8O"
      }
    },
    {
      "cell_type": "code",
      "source": [
        "mov_rate = all_data[all_data['Rating'] >= 3].reset_index(drop=True)\n",
        "mov_rate"
      ],
      "metadata": {
        "colab": {
          "base_uri": "https://localhost:8080/",
          "height": 423
        },
        "id": "Gt_sWDGi3L1c",
        "outputId": "877b9df6-94ff-40a0-9fa2-8568289f8c5f"
      },
      "execution_count": 60,
      "outputs": [
        {
          "output_type": "execute_result",
          "data": {
            "text/plain": [
              "        UserID  MovieID  Rating                                   Title  \\\n",
              "0            1     1193       5  One Flew Over the Cuckoo's Nest (1975)   \n",
              "1            1      661       3        James and the Giant Peach (1996)   \n",
              "2            1      914       3                     My Fair Lady (1964)   \n",
              "3            1     3408       4                  Erin Brockovich (2000)   \n",
              "4            1     2355       5                    Bug's Life, A (1998)   \n",
              "...        ...      ...     ...                                     ...   \n",
              "836473    6040     1090       3                          Platoon (1986)   \n",
              "836474    6040     1094       5                 Crying Game, The (1992)   \n",
              "836475    6040      562       5         Welcome to the Dollhouse (1995)   \n",
              "836476    6040     1096       4                  Sophie's Choice (1982)   \n",
              "836477    6040     1097       4       E.T. the Extra-Terrestrial (1982)   \n",
              "\n",
              "                                 Genres  \n",
              "0                                 Drama  \n",
              "1          Animation|Children's|Musical  \n",
              "2                       Musical|Romance  \n",
              "3                                 Drama  \n",
              "4           Animation|Children's|Comedy  \n",
              "...                                 ...  \n",
              "836473                        Drama|War  \n",
              "836474                Drama|Romance|War  \n",
              "836475                     Comedy|Drama  \n",
              "836476                            Drama  \n",
              "836477  Children's|Drama|Fantasy|Sci-Fi  \n",
              "\n",
              "[836478 rows x 5 columns]"
            ],
            "text/html": [
              "\n",
              "  <div id=\"df-8e5dae8f-c17a-48e1-b5e5-56c0d785fbe6\" class=\"colab-df-container\">\n",
              "    <div>\n",
              "<style scoped>\n",
              "    .dataframe tbody tr th:only-of-type {\n",
              "        vertical-align: middle;\n",
              "    }\n",
              "\n",
              "    .dataframe tbody tr th {\n",
              "        vertical-align: top;\n",
              "    }\n",
              "\n",
              "    .dataframe thead th {\n",
              "        text-align: right;\n",
              "    }\n",
              "</style>\n",
              "<table border=\"1\" class=\"dataframe\">\n",
              "  <thead>\n",
              "    <tr style=\"text-align: right;\">\n",
              "      <th></th>\n",
              "      <th>UserID</th>\n",
              "      <th>MovieID</th>\n",
              "      <th>Rating</th>\n",
              "      <th>Title</th>\n",
              "      <th>Genres</th>\n",
              "    </tr>\n",
              "  </thead>\n",
              "  <tbody>\n",
              "    <tr>\n",
              "      <th>0</th>\n",
              "      <td>1</td>\n",
              "      <td>1193</td>\n",
              "      <td>5</td>\n",
              "      <td>One Flew Over the Cuckoo's Nest (1975)</td>\n",
              "      <td>Drama</td>\n",
              "    </tr>\n",
              "    <tr>\n",
              "      <th>1</th>\n",
              "      <td>1</td>\n",
              "      <td>661</td>\n",
              "      <td>3</td>\n",
              "      <td>James and the Giant Peach (1996)</td>\n",
              "      <td>Animation|Children's|Musical</td>\n",
              "    </tr>\n",
              "    <tr>\n",
              "      <th>2</th>\n",
              "      <td>1</td>\n",
              "      <td>914</td>\n",
              "      <td>3</td>\n",
              "      <td>My Fair Lady (1964)</td>\n",
              "      <td>Musical|Romance</td>\n",
              "    </tr>\n",
              "    <tr>\n",
              "      <th>3</th>\n",
              "      <td>1</td>\n",
              "      <td>3408</td>\n",
              "      <td>4</td>\n",
              "      <td>Erin Brockovich (2000)</td>\n",
              "      <td>Drama</td>\n",
              "    </tr>\n",
              "    <tr>\n",
              "      <th>4</th>\n",
              "      <td>1</td>\n",
              "      <td>2355</td>\n",
              "      <td>5</td>\n",
              "      <td>Bug's Life, A (1998)</td>\n",
              "      <td>Animation|Children's|Comedy</td>\n",
              "    </tr>\n",
              "    <tr>\n",
              "      <th>...</th>\n",
              "      <td>...</td>\n",
              "      <td>...</td>\n",
              "      <td>...</td>\n",
              "      <td>...</td>\n",
              "      <td>...</td>\n",
              "    </tr>\n",
              "    <tr>\n",
              "      <th>836473</th>\n",
              "      <td>6040</td>\n",
              "      <td>1090</td>\n",
              "      <td>3</td>\n",
              "      <td>Platoon (1986)</td>\n",
              "      <td>Drama|War</td>\n",
              "    </tr>\n",
              "    <tr>\n",
              "      <th>836474</th>\n",
              "      <td>6040</td>\n",
              "      <td>1094</td>\n",
              "      <td>5</td>\n",
              "      <td>Crying Game, The (1992)</td>\n",
              "      <td>Drama|Romance|War</td>\n",
              "    </tr>\n",
              "    <tr>\n",
              "      <th>836475</th>\n",
              "      <td>6040</td>\n",
              "      <td>562</td>\n",
              "      <td>5</td>\n",
              "      <td>Welcome to the Dollhouse (1995)</td>\n",
              "      <td>Comedy|Drama</td>\n",
              "    </tr>\n",
              "    <tr>\n",
              "      <th>836476</th>\n",
              "      <td>6040</td>\n",
              "      <td>1096</td>\n",
              "      <td>4</td>\n",
              "      <td>Sophie's Choice (1982)</td>\n",
              "      <td>Drama</td>\n",
              "    </tr>\n",
              "    <tr>\n",
              "      <th>836477</th>\n",
              "      <td>6040</td>\n",
              "      <td>1097</td>\n",
              "      <td>4</td>\n",
              "      <td>E.T. the Extra-Terrestrial (1982)</td>\n",
              "      <td>Children's|Drama|Fantasy|Sci-Fi</td>\n",
              "    </tr>\n",
              "  </tbody>\n",
              "</table>\n",
              "<p>836478 rows × 5 columns</p>\n",
              "</div>\n",
              "    <div class=\"colab-df-buttons\">\n",
              "\n",
              "  <div class=\"colab-df-container\">\n",
              "    <button class=\"colab-df-convert\" onclick=\"convertToInteractive('df-8e5dae8f-c17a-48e1-b5e5-56c0d785fbe6')\"\n",
              "            title=\"Convert this dataframe to an interactive table.\"\n",
              "            style=\"display:none;\">\n",
              "\n",
              "  <svg xmlns=\"http://www.w3.org/2000/svg\" height=\"24px\" viewBox=\"0 -960 960 960\">\n",
              "    <path d=\"M120-120v-720h720v720H120Zm60-500h600v-160H180v160Zm220 220h160v-160H400v160Zm0 220h160v-160H400v160ZM180-400h160v-160H180v160Zm440 0h160v-160H620v160ZM180-180h160v-160H180v160Zm440 0h160v-160H620v160Z\"/>\n",
              "  </svg>\n",
              "    </button>\n",
              "\n",
              "  <style>\n",
              "    .colab-df-container {\n",
              "      display:flex;\n",
              "      gap: 12px;\n",
              "    }\n",
              "\n",
              "    .colab-df-convert {\n",
              "      background-color: #E8F0FE;\n",
              "      border: none;\n",
              "      border-radius: 50%;\n",
              "      cursor: pointer;\n",
              "      display: none;\n",
              "      fill: #1967D2;\n",
              "      height: 32px;\n",
              "      padding: 0 0 0 0;\n",
              "      width: 32px;\n",
              "    }\n",
              "\n",
              "    .colab-df-convert:hover {\n",
              "      background-color: #E2EBFA;\n",
              "      box-shadow: 0px 1px 2px rgba(60, 64, 67, 0.3), 0px 1px 3px 1px rgba(60, 64, 67, 0.15);\n",
              "      fill: #174EA6;\n",
              "    }\n",
              "\n",
              "    .colab-df-buttons div {\n",
              "      margin-bottom: 4px;\n",
              "    }\n",
              "\n",
              "    [theme=dark] .colab-df-convert {\n",
              "      background-color: #3B4455;\n",
              "      fill: #D2E3FC;\n",
              "    }\n",
              "\n",
              "    [theme=dark] .colab-df-convert:hover {\n",
              "      background-color: #434B5C;\n",
              "      box-shadow: 0px 1px 3px 1px rgba(0, 0, 0, 0.15);\n",
              "      filter: drop-shadow(0px 1px 2px rgba(0, 0, 0, 0.3));\n",
              "      fill: #FFFFFF;\n",
              "    }\n",
              "  </style>\n",
              "\n",
              "    <script>\n",
              "      const buttonEl =\n",
              "        document.querySelector('#df-8e5dae8f-c17a-48e1-b5e5-56c0d785fbe6 button.colab-df-convert');\n",
              "      buttonEl.style.display =\n",
              "        google.colab.kernel.accessAllowed ? 'block' : 'none';\n",
              "\n",
              "      async function convertToInteractive(key) {\n",
              "        const element = document.querySelector('#df-8e5dae8f-c17a-48e1-b5e5-56c0d785fbe6');\n",
              "        const dataTable =\n",
              "          await google.colab.kernel.invokeFunction('convertToInteractive',\n",
              "                                                    [key], {});\n",
              "        if (!dataTable) return;\n",
              "\n",
              "        const docLinkHtml = 'Like what you see? Visit the ' +\n",
              "          '<a target=\"_blank\" href=https://colab.research.google.com/notebooks/data_table.ipynb>data table notebook</a>'\n",
              "          + ' to learn more about interactive tables.';\n",
              "        element.innerHTML = '';\n",
              "        dataTable['output_type'] = 'display_data';\n",
              "        await google.colab.output.renderOutput(dataTable, element);\n",
              "        const docLink = document.createElement('div');\n",
              "        docLink.innerHTML = docLinkHtml;\n",
              "        element.appendChild(docLink);\n",
              "      }\n",
              "    </script>\n",
              "  </div>\n",
              "\n",
              "\n",
              "    <div id=\"df-ddb34a08-6b69-4ffd-8229-d8ad409efe45\">\n",
              "      <button class=\"colab-df-quickchart\" onclick=\"quickchart('df-ddb34a08-6b69-4ffd-8229-d8ad409efe45')\"\n",
              "                title=\"Suggest charts\"\n",
              "                style=\"display:none;\">\n",
              "\n",
              "<svg xmlns=\"http://www.w3.org/2000/svg\" height=\"24px\"viewBox=\"0 0 24 24\"\n",
              "     width=\"24px\">\n",
              "    <g>\n",
              "        <path d=\"M19 3H5c-1.1 0-2 .9-2 2v14c0 1.1.9 2 2 2h14c1.1 0 2-.9 2-2V5c0-1.1-.9-2-2-2zM9 17H7v-7h2v7zm4 0h-2V7h2v10zm4 0h-2v-4h2v4z\"/>\n",
              "    </g>\n",
              "</svg>\n",
              "      </button>\n",
              "\n",
              "<style>\n",
              "  .colab-df-quickchart {\n",
              "      --bg-color: #E8F0FE;\n",
              "      --fill-color: #1967D2;\n",
              "      --hover-bg-color: #E2EBFA;\n",
              "      --hover-fill-color: #174EA6;\n",
              "      --disabled-fill-color: #AAA;\n",
              "      --disabled-bg-color: #DDD;\n",
              "  }\n",
              "\n",
              "  [theme=dark] .colab-df-quickchart {\n",
              "      --bg-color: #3B4455;\n",
              "      --fill-color: #D2E3FC;\n",
              "      --hover-bg-color: #434B5C;\n",
              "      --hover-fill-color: #FFFFFF;\n",
              "      --disabled-bg-color: #3B4455;\n",
              "      --disabled-fill-color: #666;\n",
              "  }\n",
              "\n",
              "  .colab-df-quickchart {\n",
              "    background-color: var(--bg-color);\n",
              "    border: none;\n",
              "    border-radius: 50%;\n",
              "    cursor: pointer;\n",
              "    display: none;\n",
              "    fill: var(--fill-color);\n",
              "    height: 32px;\n",
              "    padding: 0;\n",
              "    width: 32px;\n",
              "  }\n",
              "\n",
              "  .colab-df-quickchart:hover {\n",
              "    background-color: var(--hover-bg-color);\n",
              "    box-shadow: 0 1px 2px rgba(60, 64, 67, 0.3), 0 1px 3px 1px rgba(60, 64, 67, 0.15);\n",
              "    fill: var(--button-hover-fill-color);\n",
              "  }\n",
              "\n",
              "  .colab-df-quickchart-complete:disabled,\n",
              "  .colab-df-quickchart-complete:disabled:hover {\n",
              "    background-color: var(--disabled-bg-color);\n",
              "    fill: var(--disabled-fill-color);\n",
              "    box-shadow: none;\n",
              "  }\n",
              "\n",
              "  .colab-df-spinner {\n",
              "    border: 2px solid var(--fill-color);\n",
              "    border-color: transparent;\n",
              "    border-bottom-color: var(--fill-color);\n",
              "    animation:\n",
              "      spin 1s steps(1) infinite;\n",
              "  }\n",
              "\n",
              "  @keyframes spin {\n",
              "    0% {\n",
              "      border-color: transparent;\n",
              "      border-bottom-color: var(--fill-color);\n",
              "      border-left-color: var(--fill-color);\n",
              "    }\n",
              "    20% {\n",
              "      border-color: transparent;\n",
              "      border-left-color: var(--fill-color);\n",
              "      border-top-color: var(--fill-color);\n",
              "    }\n",
              "    30% {\n",
              "      border-color: transparent;\n",
              "      border-left-color: var(--fill-color);\n",
              "      border-top-color: var(--fill-color);\n",
              "      border-right-color: var(--fill-color);\n",
              "    }\n",
              "    40% {\n",
              "      border-color: transparent;\n",
              "      border-right-color: var(--fill-color);\n",
              "      border-top-color: var(--fill-color);\n",
              "    }\n",
              "    60% {\n",
              "      border-color: transparent;\n",
              "      border-right-color: var(--fill-color);\n",
              "    }\n",
              "    80% {\n",
              "      border-color: transparent;\n",
              "      border-right-color: var(--fill-color);\n",
              "      border-bottom-color: var(--fill-color);\n",
              "    }\n",
              "    90% {\n",
              "      border-color: transparent;\n",
              "      border-bottom-color: var(--fill-color);\n",
              "    }\n",
              "  }\n",
              "</style>\n",
              "\n",
              "      <script>\n",
              "        async function quickchart(key) {\n",
              "          const quickchartButtonEl =\n",
              "            document.querySelector('#' + key + ' button');\n",
              "          quickchartButtonEl.disabled = true;  // To prevent multiple clicks.\n",
              "          quickchartButtonEl.classList.add('colab-df-spinner');\n",
              "          try {\n",
              "            const charts = await google.colab.kernel.invokeFunction(\n",
              "                'suggestCharts', [key], {});\n",
              "          } catch (error) {\n",
              "            console.error('Error during call to suggestCharts:', error);\n",
              "          }\n",
              "          quickchartButtonEl.classList.remove('colab-df-spinner');\n",
              "          quickchartButtonEl.classList.add('colab-df-quickchart-complete');\n",
              "        }\n",
              "        (() => {\n",
              "          let quickchartButtonEl =\n",
              "            document.querySelector('#df-ddb34a08-6b69-4ffd-8229-d8ad409efe45 button');\n",
              "          quickchartButtonEl.style.display =\n",
              "            google.colab.kernel.accessAllowed ? 'block' : 'none';\n",
              "        })();\n",
              "      </script>\n",
              "    </div>\n",
              "\n",
              "  <div id=\"id_5151c12a-d6c6-4f60-8f7c-24b43d0bcdd5\">\n",
              "    <style>\n",
              "      .colab-df-generate {\n",
              "        background-color: #E8F0FE;\n",
              "        border: none;\n",
              "        border-radius: 50%;\n",
              "        cursor: pointer;\n",
              "        display: none;\n",
              "        fill: #1967D2;\n",
              "        height: 32px;\n",
              "        padding: 0 0 0 0;\n",
              "        width: 32px;\n",
              "      }\n",
              "\n",
              "      .colab-df-generate:hover {\n",
              "        background-color: #E2EBFA;\n",
              "        box-shadow: 0px 1px 2px rgba(60, 64, 67, 0.3), 0px 1px 3px 1px rgba(60, 64, 67, 0.15);\n",
              "        fill: #174EA6;\n",
              "      }\n",
              "\n",
              "      [theme=dark] .colab-df-generate {\n",
              "        background-color: #3B4455;\n",
              "        fill: #D2E3FC;\n",
              "      }\n",
              "\n",
              "      [theme=dark] .colab-df-generate:hover {\n",
              "        background-color: #434B5C;\n",
              "        box-shadow: 0px 1px 3px 1px rgba(0, 0, 0, 0.15);\n",
              "        filter: drop-shadow(0px 1px 2px rgba(0, 0, 0, 0.3));\n",
              "        fill: #FFFFFF;\n",
              "      }\n",
              "    </style>\n",
              "    <button class=\"colab-df-generate\" onclick=\"generateWithVariable('mov_rate')\"\n",
              "            title=\"Generate code using this dataframe.\"\n",
              "            style=\"display:none;\">\n",
              "\n",
              "  <svg xmlns=\"http://www.w3.org/2000/svg\" height=\"24px\"viewBox=\"0 0 24 24\"\n",
              "       width=\"24px\">\n",
              "    <path d=\"M7,19H8.4L18.45,9,17,7.55,7,17.6ZM5,21V16.75L18.45,3.32a2,2,0,0,1,2.83,0l1.4,1.43a1.91,1.91,0,0,1,.58,1.4,1.91,1.91,0,0,1-.58,1.4L9.25,21ZM18.45,9,17,7.55Zm-12,3A5.31,5.31,0,0,0,4.9,8.1,5.31,5.31,0,0,0,1,6.5,5.31,5.31,0,0,0,4.9,4.9,5.31,5.31,0,0,0,6.5,1,5.31,5.31,0,0,0,8.1,4.9,5.31,5.31,0,0,0,12,6.5,5.46,5.46,0,0,0,6.5,12Z\"/>\n",
              "  </svg>\n",
              "    </button>\n",
              "    <script>\n",
              "      (() => {\n",
              "      const buttonEl =\n",
              "        document.querySelector('#id_5151c12a-d6c6-4f60-8f7c-24b43d0bcdd5 button.colab-df-generate');\n",
              "      buttonEl.style.display =\n",
              "        google.colab.kernel.accessAllowed ? 'block' : 'none';\n",
              "\n",
              "      buttonEl.onclick = () => {\n",
              "        google.colab.notebook.generateWithVariable('mov_rate');\n",
              "      }\n",
              "      })();\n",
              "    </script>\n",
              "  </div>\n",
              "\n",
              "    </div>\n",
              "  </div>\n"
            ],
            "application/vnd.google.colaboratory.intrinsic+json": {
              "type": "dataframe",
              "variable_name": "mov_rate"
            }
          },
          "metadata": {},
          "execution_count": 60
        }
      ]
    },
    {
      "cell_type": "markdown",
      "source": [
        "## Filter Berdasarkan Pengguna Paling Aktif (Top 500 users)"
      ],
      "metadata": {
        "id": "ig_7xxv59Wez"
      }
    },
    {
      "cell_type": "code",
      "source": [
        "# Hitung jumlah rating 5 per user\n",
        "user_rating_5_counts = mov_rate['UserID'].value_counts()\n",
        "\n",
        "# Ambil 500 UserID dengan jumlah rating 5 terbanyak\n",
        "# Pastikan jumlah unique UserID dengan rating 5 lebih dari atau sama dengan 500\n",
        "if len(user_rating_5_counts) >= 500:\n",
        "    top_500_user_ids_rating_5 = user_rating_5_counts.head(500).index.tolist()\n",
        "else:\n",
        "    # Jika unique UserID dengan rating 5 kurang dari 500, gunakan semua unique UserID yang ada\n",
        "    top_500_user_ids_rating_5 = user_rating_5_counts.index.tolist()\n",
        "    print(f\"Jumlah unique UserID dengan rating 5 kurang dari 500. Menggunakan semua {len(top_500_user_ids_rating_5)} UserID yang tersedia.\")\n",
        "\n",
        "# Filter data gabungan berdasarkan 500 UserID teratas yang dipilih dan rating 5\n",
        "filtered_data_top_users_rating_5 = mov_rate[mov_rate['UserID'].isin(top_500_user_ids_rating_5)].copy()\n",
        "\n",
        "print(f\"\\nUkuran data setelah filtering 500 UserID teratas (berdasarkan rating 5): {filtered_data_top_users_rating_5.shape[0]} baris\")\n",
        "print(f\"Jumlah UserID unik setelah filtering: {filtered_data_top_users_rating_5['UserID'].nunique()}\")\n",
        "\n",
        "# Tampilkan contoh data hasil filtering\n",
        "print(\"\\nContoh data setelah filtering:\")\n",
        "display(filtered_data_top_users_rating_5)"
      ],
      "metadata": {
        "colab": {
          "base_uri": "https://localhost:8080/",
          "height": 510
        },
        "id": "D1BiaO4_s0Pb",
        "outputId": "4f3cb938-acdd-4dd8-ea5a-1323619a311d"
      },
      "execution_count": 61,
      "outputs": [
        {
          "output_type": "stream",
          "name": "stdout",
          "text": [
            "\n",
            "Ukuran data setelah filtering 500 UserID teratas (berdasarkan rating 5): 272811 baris\n",
            "Jumlah UserID unik setelah filtering: 500\n",
            "\n",
            "Contoh data setelah filtering:\n"
          ]
        },
        {
          "output_type": "display_data",
          "data": {
            "text/plain": [
              "        UserID  MovieID  Rating  \\\n",
              "707         10     2622       5   \n",
              "708         10      648       4   \n",
              "709         10     2628       3   \n",
              "710         10     3358       5   \n",
              "711         10     3359       3   \n",
              "...        ...      ...     ...   \n",
              "835871    6036      562       4   \n",
              "835872    6036     1096       4   \n",
              "835873    6036     1097       4   \n",
              "835874    6036     1099       4   \n",
              "835875    6036     2048       3   \n",
              "\n",
              "                                                   Title  \\\n",
              "707                    Midsummer Night's Dream, A (1999)   \n",
              "708                           Mission: Impossible (1996)   \n",
              "709     Star Wars: Episode I - The Phantom Menace (1999)   \n",
              "710                           Defending Your Life (1991)   \n",
              "711                                 Breaking Away (1979)   \n",
              "...                                                  ...   \n",
              "835871                   Welcome to the Dollhouse (1995)   \n",
              "835872                            Sophie's Choice (1982)   \n",
              "835873                 E.T. the Extra-Terrestrial (1982)   \n",
              "835874                         Christmas Carol, A (1938)   \n",
              "835875                 Great Mouse Detective, The (1986)   \n",
              "\n",
              "                                 Genres  \n",
              "707                      Comedy|Fantasy  \n",
              "708            Action|Adventure|Mystery  \n",
              "709     Action|Adventure|Fantasy|Sci-Fi  \n",
              "710                      Comedy|Romance  \n",
              "711                               Drama  \n",
              "...                                 ...  \n",
              "835871                     Comedy|Drama  \n",
              "835872                            Drama  \n",
              "835873  Children's|Drama|Fantasy|Sci-Fi  \n",
              "835874                            Drama  \n",
              "835875             Animation|Children's  \n",
              "\n",
              "[272811 rows x 5 columns]"
            ],
            "text/html": [
              "\n",
              "  <div id=\"df-46007385-c1a1-4ebc-be42-e628ac204db7\" class=\"colab-df-container\">\n",
              "    <div>\n",
              "<style scoped>\n",
              "    .dataframe tbody tr th:only-of-type {\n",
              "        vertical-align: middle;\n",
              "    }\n",
              "\n",
              "    .dataframe tbody tr th {\n",
              "        vertical-align: top;\n",
              "    }\n",
              "\n",
              "    .dataframe thead th {\n",
              "        text-align: right;\n",
              "    }\n",
              "</style>\n",
              "<table border=\"1\" class=\"dataframe\">\n",
              "  <thead>\n",
              "    <tr style=\"text-align: right;\">\n",
              "      <th></th>\n",
              "      <th>UserID</th>\n",
              "      <th>MovieID</th>\n",
              "      <th>Rating</th>\n",
              "      <th>Title</th>\n",
              "      <th>Genres</th>\n",
              "    </tr>\n",
              "  </thead>\n",
              "  <tbody>\n",
              "    <tr>\n",
              "      <th>707</th>\n",
              "      <td>10</td>\n",
              "      <td>2622</td>\n",
              "      <td>5</td>\n",
              "      <td>Midsummer Night's Dream, A (1999)</td>\n",
              "      <td>Comedy|Fantasy</td>\n",
              "    </tr>\n",
              "    <tr>\n",
              "      <th>708</th>\n",
              "      <td>10</td>\n",
              "      <td>648</td>\n",
              "      <td>4</td>\n",
              "      <td>Mission: Impossible (1996)</td>\n",
              "      <td>Action|Adventure|Mystery</td>\n",
              "    </tr>\n",
              "    <tr>\n",
              "      <th>709</th>\n",
              "      <td>10</td>\n",
              "      <td>2628</td>\n",
              "      <td>3</td>\n",
              "      <td>Star Wars: Episode I - The Phantom Menace (1999)</td>\n",
              "      <td>Action|Adventure|Fantasy|Sci-Fi</td>\n",
              "    </tr>\n",
              "    <tr>\n",
              "      <th>710</th>\n",
              "      <td>10</td>\n",
              "      <td>3358</td>\n",
              "      <td>5</td>\n",
              "      <td>Defending Your Life (1991)</td>\n",
              "      <td>Comedy|Romance</td>\n",
              "    </tr>\n",
              "    <tr>\n",
              "      <th>711</th>\n",
              "      <td>10</td>\n",
              "      <td>3359</td>\n",
              "      <td>3</td>\n",
              "      <td>Breaking Away (1979)</td>\n",
              "      <td>Drama</td>\n",
              "    </tr>\n",
              "    <tr>\n",
              "      <th>...</th>\n",
              "      <td>...</td>\n",
              "      <td>...</td>\n",
              "      <td>...</td>\n",
              "      <td>...</td>\n",
              "      <td>...</td>\n",
              "    </tr>\n",
              "    <tr>\n",
              "      <th>835871</th>\n",
              "      <td>6036</td>\n",
              "      <td>562</td>\n",
              "      <td>4</td>\n",
              "      <td>Welcome to the Dollhouse (1995)</td>\n",
              "      <td>Comedy|Drama</td>\n",
              "    </tr>\n",
              "    <tr>\n",
              "      <th>835872</th>\n",
              "      <td>6036</td>\n",
              "      <td>1096</td>\n",
              "      <td>4</td>\n",
              "      <td>Sophie's Choice (1982)</td>\n",
              "      <td>Drama</td>\n",
              "    </tr>\n",
              "    <tr>\n",
              "      <th>835873</th>\n",
              "      <td>6036</td>\n",
              "      <td>1097</td>\n",
              "      <td>4</td>\n",
              "      <td>E.T. the Extra-Terrestrial (1982)</td>\n",
              "      <td>Children's|Drama|Fantasy|Sci-Fi</td>\n",
              "    </tr>\n",
              "    <tr>\n",
              "      <th>835874</th>\n",
              "      <td>6036</td>\n",
              "      <td>1099</td>\n",
              "      <td>4</td>\n",
              "      <td>Christmas Carol, A (1938)</td>\n",
              "      <td>Drama</td>\n",
              "    </tr>\n",
              "    <tr>\n",
              "      <th>835875</th>\n",
              "      <td>6036</td>\n",
              "      <td>2048</td>\n",
              "      <td>3</td>\n",
              "      <td>Great Mouse Detective, The (1986)</td>\n",
              "      <td>Animation|Children's</td>\n",
              "    </tr>\n",
              "  </tbody>\n",
              "</table>\n",
              "<p>272811 rows × 5 columns</p>\n",
              "</div>\n",
              "    <div class=\"colab-df-buttons\">\n",
              "\n",
              "  <div class=\"colab-df-container\">\n",
              "    <button class=\"colab-df-convert\" onclick=\"convertToInteractive('df-46007385-c1a1-4ebc-be42-e628ac204db7')\"\n",
              "            title=\"Convert this dataframe to an interactive table.\"\n",
              "            style=\"display:none;\">\n",
              "\n",
              "  <svg xmlns=\"http://www.w3.org/2000/svg\" height=\"24px\" viewBox=\"0 -960 960 960\">\n",
              "    <path d=\"M120-120v-720h720v720H120Zm60-500h600v-160H180v160Zm220 220h160v-160H400v160Zm0 220h160v-160H400v160ZM180-400h160v-160H180v160Zm440 0h160v-160H620v160ZM180-180h160v-160H180v160Zm440 0h160v-160H620v160Z\"/>\n",
              "  </svg>\n",
              "    </button>\n",
              "\n",
              "  <style>\n",
              "    .colab-df-container {\n",
              "      display:flex;\n",
              "      gap: 12px;\n",
              "    }\n",
              "\n",
              "    .colab-df-convert {\n",
              "      background-color: #E8F0FE;\n",
              "      border: none;\n",
              "      border-radius: 50%;\n",
              "      cursor: pointer;\n",
              "      display: none;\n",
              "      fill: #1967D2;\n",
              "      height: 32px;\n",
              "      padding: 0 0 0 0;\n",
              "      width: 32px;\n",
              "    }\n",
              "\n",
              "    .colab-df-convert:hover {\n",
              "      background-color: #E2EBFA;\n",
              "      box-shadow: 0px 1px 2px rgba(60, 64, 67, 0.3), 0px 1px 3px 1px rgba(60, 64, 67, 0.15);\n",
              "      fill: #174EA6;\n",
              "    }\n",
              "\n",
              "    .colab-df-buttons div {\n",
              "      margin-bottom: 4px;\n",
              "    }\n",
              "\n",
              "    [theme=dark] .colab-df-convert {\n",
              "      background-color: #3B4455;\n",
              "      fill: #D2E3FC;\n",
              "    }\n",
              "\n",
              "    [theme=dark] .colab-df-convert:hover {\n",
              "      background-color: #434B5C;\n",
              "      box-shadow: 0px 1px 3px 1px rgba(0, 0, 0, 0.15);\n",
              "      filter: drop-shadow(0px 1px 2px rgba(0, 0, 0, 0.3));\n",
              "      fill: #FFFFFF;\n",
              "    }\n",
              "  </style>\n",
              "\n",
              "    <script>\n",
              "      const buttonEl =\n",
              "        document.querySelector('#df-46007385-c1a1-4ebc-be42-e628ac204db7 button.colab-df-convert');\n",
              "      buttonEl.style.display =\n",
              "        google.colab.kernel.accessAllowed ? 'block' : 'none';\n",
              "\n",
              "      async function convertToInteractive(key) {\n",
              "        const element = document.querySelector('#df-46007385-c1a1-4ebc-be42-e628ac204db7');\n",
              "        const dataTable =\n",
              "          await google.colab.kernel.invokeFunction('convertToInteractive',\n",
              "                                                    [key], {});\n",
              "        if (!dataTable) return;\n",
              "\n",
              "        const docLinkHtml = 'Like what you see? Visit the ' +\n",
              "          '<a target=\"_blank\" href=https://colab.research.google.com/notebooks/data_table.ipynb>data table notebook</a>'\n",
              "          + ' to learn more about interactive tables.';\n",
              "        element.innerHTML = '';\n",
              "        dataTable['output_type'] = 'display_data';\n",
              "        await google.colab.output.renderOutput(dataTable, element);\n",
              "        const docLink = document.createElement('div');\n",
              "        docLink.innerHTML = docLinkHtml;\n",
              "        element.appendChild(docLink);\n",
              "      }\n",
              "    </script>\n",
              "  </div>\n",
              "\n",
              "\n",
              "    <div id=\"df-85fb6519-69ea-4a2d-9324-a309a84a415e\">\n",
              "      <button class=\"colab-df-quickchart\" onclick=\"quickchart('df-85fb6519-69ea-4a2d-9324-a309a84a415e')\"\n",
              "                title=\"Suggest charts\"\n",
              "                style=\"display:none;\">\n",
              "\n",
              "<svg xmlns=\"http://www.w3.org/2000/svg\" height=\"24px\"viewBox=\"0 0 24 24\"\n",
              "     width=\"24px\">\n",
              "    <g>\n",
              "        <path d=\"M19 3H5c-1.1 0-2 .9-2 2v14c0 1.1.9 2 2 2h14c1.1 0 2-.9 2-2V5c0-1.1-.9-2-2-2zM9 17H7v-7h2v7zm4 0h-2V7h2v10zm4 0h-2v-4h2v4z\"/>\n",
              "    </g>\n",
              "</svg>\n",
              "      </button>\n",
              "\n",
              "<style>\n",
              "  .colab-df-quickchart {\n",
              "      --bg-color: #E8F0FE;\n",
              "      --fill-color: #1967D2;\n",
              "      --hover-bg-color: #E2EBFA;\n",
              "      --hover-fill-color: #174EA6;\n",
              "      --disabled-fill-color: #AAA;\n",
              "      --disabled-bg-color: #DDD;\n",
              "  }\n",
              "\n",
              "  [theme=dark] .colab-df-quickchart {\n",
              "      --bg-color: #3B4455;\n",
              "      --fill-color: #D2E3FC;\n",
              "      --hover-bg-color: #434B5C;\n",
              "      --hover-fill-color: #FFFFFF;\n",
              "      --disabled-bg-color: #3B4455;\n",
              "      --disabled-fill-color: #666;\n",
              "  }\n",
              "\n",
              "  .colab-df-quickchart {\n",
              "    background-color: var(--bg-color);\n",
              "    border: none;\n",
              "    border-radius: 50%;\n",
              "    cursor: pointer;\n",
              "    display: none;\n",
              "    fill: var(--fill-color);\n",
              "    height: 32px;\n",
              "    padding: 0;\n",
              "    width: 32px;\n",
              "  }\n",
              "\n",
              "  .colab-df-quickchart:hover {\n",
              "    background-color: var(--hover-bg-color);\n",
              "    box-shadow: 0 1px 2px rgba(60, 64, 67, 0.3), 0 1px 3px 1px rgba(60, 64, 67, 0.15);\n",
              "    fill: var(--button-hover-fill-color);\n",
              "  }\n",
              "\n",
              "  .colab-df-quickchart-complete:disabled,\n",
              "  .colab-df-quickchart-complete:disabled:hover {\n",
              "    background-color: var(--disabled-bg-color);\n",
              "    fill: var(--disabled-fill-color);\n",
              "    box-shadow: none;\n",
              "  }\n",
              "\n",
              "  .colab-df-spinner {\n",
              "    border: 2px solid var(--fill-color);\n",
              "    border-color: transparent;\n",
              "    border-bottom-color: var(--fill-color);\n",
              "    animation:\n",
              "      spin 1s steps(1) infinite;\n",
              "  }\n",
              "\n",
              "  @keyframes spin {\n",
              "    0% {\n",
              "      border-color: transparent;\n",
              "      border-bottom-color: var(--fill-color);\n",
              "      border-left-color: var(--fill-color);\n",
              "    }\n",
              "    20% {\n",
              "      border-color: transparent;\n",
              "      border-left-color: var(--fill-color);\n",
              "      border-top-color: var(--fill-color);\n",
              "    }\n",
              "    30% {\n",
              "      border-color: transparent;\n",
              "      border-left-color: var(--fill-color);\n",
              "      border-top-color: var(--fill-color);\n",
              "      border-right-color: var(--fill-color);\n",
              "    }\n",
              "    40% {\n",
              "      border-color: transparent;\n",
              "      border-right-color: var(--fill-color);\n",
              "      border-top-color: var(--fill-color);\n",
              "    }\n",
              "    60% {\n",
              "      border-color: transparent;\n",
              "      border-right-color: var(--fill-color);\n",
              "    }\n",
              "    80% {\n",
              "      border-color: transparent;\n",
              "      border-right-color: var(--fill-color);\n",
              "      border-bottom-color: var(--fill-color);\n",
              "    }\n",
              "    90% {\n",
              "      border-color: transparent;\n",
              "      border-bottom-color: var(--fill-color);\n",
              "    }\n",
              "  }\n",
              "</style>\n",
              "\n",
              "      <script>\n",
              "        async function quickchart(key) {\n",
              "          const quickchartButtonEl =\n",
              "            document.querySelector('#' + key + ' button');\n",
              "          quickchartButtonEl.disabled = true;  // To prevent multiple clicks.\n",
              "          quickchartButtonEl.classList.add('colab-df-spinner');\n",
              "          try {\n",
              "            const charts = await google.colab.kernel.invokeFunction(\n",
              "                'suggestCharts', [key], {});\n",
              "          } catch (error) {\n",
              "            console.error('Error during call to suggestCharts:', error);\n",
              "          }\n",
              "          quickchartButtonEl.classList.remove('colab-df-spinner');\n",
              "          quickchartButtonEl.classList.add('colab-df-quickchart-complete');\n",
              "        }\n",
              "        (() => {\n",
              "          let quickchartButtonEl =\n",
              "            document.querySelector('#df-85fb6519-69ea-4a2d-9324-a309a84a415e button');\n",
              "          quickchartButtonEl.style.display =\n",
              "            google.colab.kernel.accessAllowed ? 'block' : 'none';\n",
              "        })();\n",
              "      </script>\n",
              "    </div>\n",
              "\n",
              "  <div id=\"id_552e4af4-9050-4791-9d10-ef838af26a59\">\n",
              "    <style>\n",
              "      .colab-df-generate {\n",
              "        background-color: #E8F0FE;\n",
              "        border: none;\n",
              "        border-radius: 50%;\n",
              "        cursor: pointer;\n",
              "        display: none;\n",
              "        fill: #1967D2;\n",
              "        height: 32px;\n",
              "        padding: 0 0 0 0;\n",
              "        width: 32px;\n",
              "      }\n",
              "\n",
              "      .colab-df-generate:hover {\n",
              "        background-color: #E2EBFA;\n",
              "        box-shadow: 0px 1px 2px rgba(60, 64, 67, 0.3), 0px 1px 3px 1px rgba(60, 64, 67, 0.15);\n",
              "        fill: #174EA6;\n",
              "      }\n",
              "\n",
              "      [theme=dark] .colab-df-generate {\n",
              "        background-color: #3B4455;\n",
              "        fill: #D2E3FC;\n",
              "      }\n",
              "\n",
              "      [theme=dark] .colab-df-generate:hover {\n",
              "        background-color: #434B5C;\n",
              "        box-shadow: 0px 1px 3px 1px rgba(0, 0, 0, 0.15);\n",
              "        filter: drop-shadow(0px 1px 2px rgba(0, 0, 0, 0.3));\n",
              "        fill: #FFFFFF;\n",
              "      }\n",
              "    </style>\n",
              "    <button class=\"colab-df-generate\" onclick=\"generateWithVariable('filtered_data_top_users_rating_5')\"\n",
              "            title=\"Generate code using this dataframe.\"\n",
              "            style=\"display:none;\">\n",
              "\n",
              "  <svg xmlns=\"http://www.w3.org/2000/svg\" height=\"24px\"viewBox=\"0 0 24 24\"\n",
              "       width=\"24px\">\n",
              "    <path d=\"M7,19H8.4L18.45,9,17,7.55,7,17.6ZM5,21V16.75L18.45,3.32a2,2,0,0,1,2.83,0l1.4,1.43a1.91,1.91,0,0,1,.58,1.4,1.91,1.91,0,0,1-.58,1.4L9.25,21ZM18.45,9,17,7.55Zm-12,3A5.31,5.31,0,0,0,4.9,8.1,5.31,5.31,0,0,0,1,6.5,5.31,5.31,0,0,0,4.9,4.9,5.31,5.31,0,0,0,6.5,1,5.31,5.31,0,0,0,8.1,4.9,5.31,5.31,0,0,0,12,6.5,5.46,5.46,0,0,0,6.5,12Z\"/>\n",
              "  </svg>\n",
              "    </button>\n",
              "    <script>\n",
              "      (() => {\n",
              "      const buttonEl =\n",
              "        document.querySelector('#id_552e4af4-9050-4791-9d10-ef838af26a59 button.colab-df-generate');\n",
              "      buttonEl.style.display =\n",
              "        google.colab.kernel.accessAllowed ? 'block' : 'none';\n",
              "\n",
              "      buttonEl.onclick = () => {\n",
              "        google.colab.notebook.generateWithVariable('filtered_data_top_users_rating_5');\n",
              "      }\n",
              "      })();\n",
              "    </script>\n",
              "  </div>\n",
              "\n",
              "    </div>\n",
              "  </div>\n"
            ],
            "application/vnd.google.colaboratory.intrinsic+json": {
              "type": "dataframe",
              "variable_name": "filtered_data_top_users_rating_5"
            }
          },
          "metadata": {}
        }
      ]
    },
    {
      "cell_type": "markdown",
      "source": [
        "## Label Encoding dan Split Data"
      ],
      "metadata": {
        "id": "5b7YMNBVZSnU"
      }
    },
    {
      "cell_type": "code",
      "source": [
        "import pandas as pd\n",
        "from sklearn.model_selection import train_test_split\n",
        "from sklearn.preprocessing import LabelEncoder\n",
        "\n",
        "# Encode userId dan movieId\n",
        "user_encoder = LabelEncoder()\n",
        "movie_encoder = LabelEncoder()\n",
        "\n",
        "filtered_data_top_users_rating_5['user'] = user_encoder.fit_transform(filtered_data_top_users_rating_5['UserID'])\n",
        "filtered_data_top_users_rating_5['movie'] = movie_encoder.fit_transform(filtered_data_top_users_rating_5['MovieID'])\n",
        "\n",
        "num_users = filtered_data_top_users_rating_5['user'].nunique()\n",
        "num_movies = filtered_data_top_users_rating_5['movie'].nunique()\n",
        "\n",
        "from sklearn.preprocessing import LabelEncoder\n",
        "\n",
        "# Label Encoding user dan movie\n",
        "user_encoder = LabelEncoder()\n",
        "movie_encoder = LabelEncoder()\n",
        "\n",
        "filtered_data_top_users_rating_5['user'] = user_encoder.fit_transform(filtered_data_top_users_rating_5['UserID'])\n",
        "filtered_data_top_users_rating_5['movie'] = movie_encoder.fit_transform(filtered_data_top_users_rating_5['MovieID'])\n",
        "\n",
        "# Simpan mapping movie_index ke MovieID asli\n",
        "movie_index_to_id = dict(zip(filtered_data_top_users_rating_5['movie'], filtered_data_top_users_rating_5['MovieID']))\n",
        "movie_id_to_title = dict(zip(filtered_data_top_users_rating_5['MovieID'], filtered_data_top_users_rating_5['Title']))\n",
        "movie_id_to_genre = dict(zip(filtered_data_top_users_rating_5['MovieID'], filtered_data_top_users_rating_5['Genres']))\n",
        "\n",
        "# Simpan juga versi kebalikannya jika perlu\n",
        "movie_id_to_index = dict(zip(ratings['MovieID'], ratings['movie']))\n",
        "\n",
        "# Bagi data menjadi train dan test\n",
        "train_data, test_data = train_test_split(filtered_data_top_users_rating_5[['user', 'movie', 'Rating']], test_size=0.2, random_state=42)"
      ],
      "metadata": {
        "id": "DLZoKzNYlvDH"
      },
      "execution_count": 88,
      "outputs": []
    },
    {
      "cell_type": "markdown",
      "source": [
        "## 🔍 Kesimpulan Data Preparation\n",
        "\n",
        "Berikut adalah tahapan-tahapan data preparation yang dilakukan secara berurutan:\n",
        "\n",
        "- **Menghapus fitur yang tidak relevan**  \n",
        "  Kolom seperti `Timestamp`, `Gender`, `Age`, `Occupation`, `Zip-code` dihapus karena tidak memberikan kontribusi terhadap sistem rekomendasi. Penghapusan ini menyederhanakan data dan mempercepat proses analisis.\n",
        "\n",
        "- **Menggabungkan dataset**  \n",
        "  Dataset dari film, rating, dan genre digabung menggunakan `MovieID` sebagai kunci utama. Penggabungan ini menghasilkan dataset utuh yang berisi informasi lengkap mengenai pengguna dan film.\n",
        "\n",
        "- **Filtering dengan Rating ≥ 3**  \n",
        "   Data difilter untuk hanya menyertakan rating dengan nilai 3 atau lebih. Hal ini dilakukan dengan asumsi bahwa rating di atas atau sama dengan 3 mencerminkan ketertarikan pengguna terhadap film tersebut, sehingga lebih relevan untuk proses rekomendasi.\n",
        "\n",
        "- **Filter Berdasarkan Top 500 User**  \n",
        "   Untuk meningkatkan efisiensi dan kualitas rekomendasi, data dibatasi hanya pada 500 pengguna teratas yang paling aktif (memberikan rating terbanyak). Pengguna aktif lebih mungkin memiliki profil preferensi yang lebih representatif.\n",
        "\n",
        "- **Label Encoding**  \n",
        "   Kolom `UserID` dan `MovieID` dikonversi menjadi format numerik menggunakan teknik Label Encoding. Ini penting karena model pembelajaran mesin seperti Collaborative Filtering berbasis embedding memerlukan input dalam bentuk indeks numerik.\n",
        "\n",
        "- **Membagi Data Menjadi Train dan Test**  \n",
        "   Data kemudian dibagi menjadi data latih dan data uji dengan perbandingan 80:20. Tujuan dari pembagian ini adalah untuk menguji performa model terhadap data yang belum pernah dilihat sebelumnya, sehingga dapat mengevaluasi kemampuan generalisasi model.\n",
        "\n",
        "Langkah-langkah di atas dilakukan secara berurutan dan saling terkait untuk memastikan bahwa data yang digunakan dalam proses modeling benar-benar siap dan relevan.\n",
        "\n",
        "\n",
        "Dengan langkah-langkah persiapan data ini, dataset sudah dalam kondisi yang siap untuk digunakan dalam pemodelan sistem rekomendasi berbasis Collaborative Filtering.  Tahapan ini sangat penting untuk memastikan kualitas data, mempercepat proses pelatihan model, serta meningkatkan akurasi rekomendasi yang dihasilkan.\n",
        "\n"
      ],
      "metadata": {
        "id": "VYSPI0Ek9GaF"
      }
    },
    {
      "cell_type": "markdown",
      "source": [
        "# Modelling"
      ],
      "metadata": {
        "id": "nXYGBC_m9mAE"
      }
    },
    {
      "cell_type": "markdown",
      "source": [
        "## Collaborative Filtering"
      ],
      "metadata": {
        "id": "-_E5cY9dLZ6E"
      }
    },
    {
      "cell_type": "code",
      "source": [
        "# =====================\n",
        "# COLLABORATIVE FILTERING\n",
        "# =====================\n",
        "\n",
        "import tensorflow as tf\n",
        "from tensorflow.keras.models import Model\n",
        "from tensorflow.keras.layers import Input, Embedding, Flatten, Dot, Add\n",
        "from tensorflow.keras.optimizers import Adam\n",
        "from tensorflow.keras.metrics import RootMeanSquaredError\n",
        "\n",
        "# Parameter embedding\n",
        "embedding_size = 50\n",
        "\n",
        "# Input\n",
        "user_input = Input(shape=(1,), name='user_input')\n",
        "movie_input = Input(shape=(1,), name='movie_input')\n",
        "\n",
        "# Embedding layers\n",
        "user_embedding = Embedding(input_dim=num_users, output_dim=embedding_size)(user_input)\n",
        "movie_embedding = Embedding(input_dim=num_movies, output_dim=embedding_size)(movie_input)\n",
        "\n",
        "# Bias opsional\n",
        "user_bias = Embedding(input_dim=num_users, output_dim=1)(user_input)\n",
        "movie_bias = Embedding(input_dim=num_movies, output_dim=1)(movie_input)\n",
        "\n",
        "# Dot product dan penjumlahan bias\n",
        "dot_product = Dot(axes=2)([user_embedding, movie_embedding])\n",
        "dot_product = Add()([dot_product, user_bias, movie_bias])\n",
        "output = Flatten()(dot_product)  # <== TANPA sigmoid\n",
        "\n",
        "# Bangun model\n",
        "model = Model(inputs=[user_input, movie_input], outputs=output)\n",
        "\n",
        "# Compile model\n",
        "model.compile(\n",
        "    loss='mae',\n",
        "    optimizer=Adam(learning_rate=0.001),\n",
        "    metrics=[RootMeanSquaredError()]\n",
        ")\n",
        "\n",
        "# Ringkasan model\n",
        "model.summary()"
      ],
      "metadata": {
        "id": "yCbo05cFGTw1",
        "colab": {
          "base_uri": "https://localhost:8080/",
          "height": 561
        },
        "outputId": "1960d766-8d35-4eba-dd42-0bdae3695663"
      },
      "execution_count": 103,
      "outputs": [
        {
          "output_type": "display_data",
          "data": {
            "text/plain": [
              "\u001b[1mModel: \"functional_3\"\u001b[0m\n"
            ],
            "text/html": [
              "<pre style=\"white-space:pre;overflow-x:auto;line-height:normal;font-family:Menlo,'DejaVu Sans Mono',consolas,'Courier New',monospace\"><span style=\"font-weight: bold\">Model: \"functional_3\"</span>\n",
              "</pre>\n"
            ]
          },
          "metadata": {}
        },
        {
          "output_type": "display_data",
          "data": {
            "text/plain": [
              "┏━━━━━━━━━━━━━━━━━━━━━┳━━━━━━━━━━━━━━━━━━━┳━━━━━━━━━━━━┳━━━━━━━━━━━━━━━━━━━┓\n",
              "┃\u001b[1m \u001b[0m\u001b[1mLayer (type)       \u001b[0m\u001b[1m \u001b[0m┃\u001b[1m \u001b[0m\u001b[1mOutput Shape     \u001b[0m\u001b[1m \u001b[0m┃\u001b[1m \u001b[0m\u001b[1m   Param #\u001b[0m\u001b[1m \u001b[0m┃\u001b[1m \u001b[0m\u001b[1mConnected to     \u001b[0m\u001b[1m \u001b[0m┃\n",
              "┡━━━━━━━━━━━━━━━━━━━━━╇━━━━━━━━━━━━━━━━━━━╇━━━━━━━━━━━━╇━━━━━━━━━━━━━━━━━━━┩\n",
              "│ user_input          │ (\u001b[38;5;45mNone\u001b[0m, \u001b[38;5;34m1\u001b[0m)         │          \u001b[38;5;34m0\u001b[0m │ -                 │\n",
              "│ (\u001b[38;5;33mInputLayer\u001b[0m)        │                   │            │                   │\n",
              "├─────────────────────┼───────────────────┼────────────┼───────────────────┤\n",
              "│ movie_input         │ (\u001b[38;5;45mNone\u001b[0m, \u001b[38;5;34m1\u001b[0m)         │          \u001b[38;5;34m0\u001b[0m │ -                 │\n",
              "│ (\u001b[38;5;33mInputLayer\u001b[0m)        │                   │            │                   │\n",
              "├─────────────────────┼───────────────────┼────────────┼───────────────────┤\n",
              "│ embedding_12        │ (\u001b[38;5;45mNone\u001b[0m, \u001b[38;5;34m1\u001b[0m, \u001b[38;5;34m50\u001b[0m)     │     \u001b[38;5;34m25,000\u001b[0m │ user_input[\u001b[38;5;34m0\u001b[0m][\u001b[38;5;34m0\u001b[0m]  │\n",
              "│ (\u001b[38;5;33mEmbedding\u001b[0m)         │                   │            │                   │\n",
              "├─────────────────────┼───────────────────┼────────────┼───────────────────┤\n",
              "│ embedding_13        │ (\u001b[38;5;45mNone\u001b[0m, \u001b[38;5;34m1\u001b[0m, \u001b[38;5;34m50\u001b[0m)     │    \u001b[38;5;34m175,850\u001b[0m │ movie_input[\u001b[38;5;34m0\u001b[0m][\u001b[38;5;34m0\u001b[0m] │\n",
              "│ (\u001b[38;5;33mEmbedding\u001b[0m)         │                   │            │                   │\n",
              "├─────────────────────┼───────────────────┼────────────┼───────────────────┤\n",
              "│ dot_3 (\u001b[38;5;33mDot\u001b[0m)         │ (\u001b[38;5;45mNone\u001b[0m, \u001b[38;5;34m1\u001b[0m, \u001b[38;5;34m1\u001b[0m)      │          \u001b[38;5;34m0\u001b[0m │ embedding_12[\u001b[38;5;34m0\u001b[0m][\u001b[38;5;34m…\u001b[0m │\n",
              "│                     │                   │            │ embedding_13[\u001b[38;5;34m0\u001b[0m][\u001b[38;5;34m…\u001b[0m │\n",
              "├─────────────────────┼───────────────────┼────────────┼───────────────────┤\n",
              "│ embedding_14        │ (\u001b[38;5;45mNone\u001b[0m, \u001b[38;5;34m1\u001b[0m, \u001b[38;5;34m1\u001b[0m)      │        \u001b[38;5;34m500\u001b[0m │ user_input[\u001b[38;5;34m0\u001b[0m][\u001b[38;5;34m0\u001b[0m]  │\n",
              "│ (\u001b[38;5;33mEmbedding\u001b[0m)         │                   │            │                   │\n",
              "├─────────────────────┼───────────────────┼────────────┼───────────────────┤\n",
              "│ embedding_15        │ (\u001b[38;5;45mNone\u001b[0m, \u001b[38;5;34m1\u001b[0m, \u001b[38;5;34m1\u001b[0m)      │      \u001b[38;5;34m3,517\u001b[0m │ movie_input[\u001b[38;5;34m0\u001b[0m][\u001b[38;5;34m0\u001b[0m] │\n",
              "│ (\u001b[38;5;33mEmbedding\u001b[0m)         │                   │            │                   │\n",
              "├─────────────────────┼───────────────────┼────────────┼───────────────────┤\n",
              "│ add_3 (\u001b[38;5;33mAdd\u001b[0m)         │ (\u001b[38;5;45mNone\u001b[0m, \u001b[38;5;34m1\u001b[0m, \u001b[38;5;34m1\u001b[0m)      │          \u001b[38;5;34m0\u001b[0m │ dot_3[\u001b[38;5;34m0\u001b[0m][\u001b[38;5;34m0\u001b[0m],      │\n",
              "│                     │                   │            │ embedding_14[\u001b[38;5;34m0\u001b[0m][\u001b[38;5;34m…\u001b[0m │\n",
              "│                     │                   │            │ embedding_15[\u001b[38;5;34m0\u001b[0m][\u001b[38;5;34m…\u001b[0m │\n",
              "├─────────────────────┼───────────────────┼────────────┼───────────────────┤\n",
              "│ flatten_3 (\u001b[38;5;33mFlatten\u001b[0m) │ (\u001b[38;5;45mNone\u001b[0m, \u001b[38;5;34m1\u001b[0m)         │          \u001b[38;5;34m0\u001b[0m │ add_3[\u001b[38;5;34m0\u001b[0m][\u001b[38;5;34m0\u001b[0m]       │\n",
              "└─────────────────────┴───────────────────┴────────────┴───────────────────┘\n"
            ],
            "text/html": [
              "<pre style=\"white-space:pre;overflow-x:auto;line-height:normal;font-family:Menlo,'DejaVu Sans Mono',consolas,'Courier New',monospace\">┏━━━━━━━━━━━━━━━━━━━━━┳━━━━━━━━━━━━━━━━━━━┳━━━━━━━━━━━━┳━━━━━━━━━━━━━━━━━━━┓\n",
              "┃<span style=\"font-weight: bold\"> Layer (type)        </span>┃<span style=\"font-weight: bold\"> Output Shape      </span>┃<span style=\"font-weight: bold\">    Param # </span>┃<span style=\"font-weight: bold\"> Connected to      </span>┃\n",
              "┡━━━━━━━━━━━━━━━━━━━━━╇━━━━━━━━━━━━━━━━━━━╇━━━━━━━━━━━━╇━━━━━━━━━━━━━━━━━━━┩\n",
              "│ user_input          │ (<span style=\"color: #00d7ff; text-decoration-color: #00d7ff\">None</span>, <span style=\"color: #00af00; text-decoration-color: #00af00\">1</span>)         │          <span style=\"color: #00af00; text-decoration-color: #00af00\">0</span> │ -                 │\n",
              "│ (<span style=\"color: #0087ff; text-decoration-color: #0087ff\">InputLayer</span>)        │                   │            │                   │\n",
              "├─────────────────────┼───────────────────┼────────────┼───────────────────┤\n",
              "│ movie_input         │ (<span style=\"color: #00d7ff; text-decoration-color: #00d7ff\">None</span>, <span style=\"color: #00af00; text-decoration-color: #00af00\">1</span>)         │          <span style=\"color: #00af00; text-decoration-color: #00af00\">0</span> │ -                 │\n",
              "│ (<span style=\"color: #0087ff; text-decoration-color: #0087ff\">InputLayer</span>)        │                   │            │                   │\n",
              "├─────────────────────┼───────────────────┼────────────┼───────────────────┤\n",
              "│ embedding_12        │ (<span style=\"color: #00d7ff; text-decoration-color: #00d7ff\">None</span>, <span style=\"color: #00af00; text-decoration-color: #00af00\">1</span>, <span style=\"color: #00af00; text-decoration-color: #00af00\">50</span>)     │     <span style=\"color: #00af00; text-decoration-color: #00af00\">25,000</span> │ user_input[<span style=\"color: #00af00; text-decoration-color: #00af00\">0</span>][<span style=\"color: #00af00; text-decoration-color: #00af00\">0</span>]  │\n",
              "│ (<span style=\"color: #0087ff; text-decoration-color: #0087ff\">Embedding</span>)         │                   │            │                   │\n",
              "├─────────────────────┼───────────────────┼────────────┼───────────────────┤\n",
              "│ embedding_13        │ (<span style=\"color: #00d7ff; text-decoration-color: #00d7ff\">None</span>, <span style=\"color: #00af00; text-decoration-color: #00af00\">1</span>, <span style=\"color: #00af00; text-decoration-color: #00af00\">50</span>)     │    <span style=\"color: #00af00; text-decoration-color: #00af00\">175,850</span> │ movie_input[<span style=\"color: #00af00; text-decoration-color: #00af00\">0</span>][<span style=\"color: #00af00; text-decoration-color: #00af00\">0</span>] │\n",
              "│ (<span style=\"color: #0087ff; text-decoration-color: #0087ff\">Embedding</span>)         │                   │            │                   │\n",
              "├─────────────────────┼───────────────────┼────────────┼───────────────────┤\n",
              "│ dot_3 (<span style=\"color: #0087ff; text-decoration-color: #0087ff\">Dot</span>)         │ (<span style=\"color: #00d7ff; text-decoration-color: #00d7ff\">None</span>, <span style=\"color: #00af00; text-decoration-color: #00af00\">1</span>, <span style=\"color: #00af00; text-decoration-color: #00af00\">1</span>)      │          <span style=\"color: #00af00; text-decoration-color: #00af00\">0</span> │ embedding_12[<span style=\"color: #00af00; text-decoration-color: #00af00\">0</span>][<span style=\"color: #00af00; text-decoration-color: #00af00\">…</span> │\n",
              "│                     │                   │            │ embedding_13[<span style=\"color: #00af00; text-decoration-color: #00af00\">0</span>][<span style=\"color: #00af00; text-decoration-color: #00af00\">…</span> │\n",
              "├─────────────────────┼───────────────────┼────────────┼───────────────────┤\n",
              "│ embedding_14        │ (<span style=\"color: #00d7ff; text-decoration-color: #00d7ff\">None</span>, <span style=\"color: #00af00; text-decoration-color: #00af00\">1</span>, <span style=\"color: #00af00; text-decoration-color: #00af00\">1</span>)      │        <span style=\"color: #00af00; text-decoration-color: #00af00\">500</span> │ user_input[<span style=\"color: #00af00; text-decoration-color: #00af00\">0</span>][<span style=\"color: #00af00; text-decoration-color: #00af00\">0</span>]  │\n",
              "│ (<span style=\"color: #0087ff; text-decoration-color: #0087ff\">Embedding</span>)         │                   │            │                   │\n",
              "├─────────────────────┼───────────────────┼────────────┼───────────────────┤\n",
              "│ embedding_15        │ (<span style=\"color: #00d7ff; text-decoration-color: #00d7ff\">None</span>, <span style=\"color: #00af00; text-decoration-color: #00af00\">1</span>, <span style=\"color: #00af00; text-decoration-color: #00af00\">1</span>)      │      <span style=\"color: #00af00; text-decoration-color: #00af00\">3,517</span> │ movie_input[<span style=\"color: #00af00; text-decoration-color: #00af00\">0</span>][<span style=\"color: #00af00; text-decoration-color: #00af00\">0</span>] │\n",
              "│ (<span style=\"color: #0087ff; text-decoration-color: #0087ff\">Embedding</span>)         │                   │            │                   │\n",
              "├─────────────────────┼───────────────────┼────────────┼───────────────────┤\n",
              "│ add_3 (<span style=\"color: #0087ff; text-decoration-color: #0087ff\">Add</span>)         │ (<span style=\"color: #00d7ff; text-decoration-color: #00d7ff\">None</span>, <span style=\"color: #00af00; text-decoration-color: #00af00\">1</span>, <span style=\"color: #00af00; text-decoration-color: #00af00\">1</span>)      │          <span style=\"color: #00af00; text-decoration-color: #00af00\">0</span> │ dot_3[<span style=\"color: #00af00; text-decoration-color: #00af00\">0</span>][<span style=\"color: #00af00; text-decoration-color: #00af00\">0</span>],      │\n",
              "│                     │                   │            │ embedding_14[<span style=\"color: #00af00; text-decoration-color: #00af00\">0</span>][<span style=\"color: #00af00; text-decoration-color: #00af00\">…</span> │\n",
              "│                     │                   │            │ embedding_15[<span style=\"color: #00af00; text-decoration-color: #00af00\">0</span>][<span style=\"color: #00af00; text-decoration-color: #00af00\">…</span> │\n",
              "├─────────────────────┼───────────────────┼────────────┼───────────────────┤\n",
              "│ flatten_3 (<span style=\"color: #0087ff; text-decoration-color: #0087ff\">Flatten</span>) │ (<span style=\"color: #00d7ff; text-decoration-color: #00d7ff\">None</span>, <span style=\"color: #00af00; text-decoration-color: #00af00\">1</span>)         │          <span style=\"color: #00af00; text-decoration-color: #00af00\">0</span> │ add_3[<span style=\"color: #00af00; text-decoration-color: #00af00\">0</span>][<span style=\"color: #00af00; text-decoration-color: #00af00\">0</span>]       │\n",
              "└─────────────────────┴───────────────────┴────────────┴───────────────────┘\n",
              "</pre>\n"
            ]
          },
          "metadata": {}
        },
        {
          "output_type": "display_data",
          "data": {
            "text/plain": [
              "\u001b[1m Total params: \u001b[0m\u001b[38;5;34m204,867\u001b[0m (800.26 KB)\n"
            ],
            "text/html": [
              "<pre style=\"white-space:pre;overflow-x:auto;line-height:normal;font-family:Menlo,'DejaVu Sans Mono',consolas,'Courier New',monospace\"><span style=\"font-weight: bold\"> Total params: </span><span style=\"color: #00af00; text-decoration-color: #00af00\">204,867</span> (800.26 KB)\n",
              "</pre>\n"
            ]
          },
          "metadata": {}
        },
        {
          "output_type": "display_data",
          "data": {
            "text/plain": [
              "\u001b[1m Trainable params: \u001b[0m\u001b[38;5;34m204,867\u001b[0m (800.26 KB)\n"
            ],
            "text/html": [
              "<pre style=\"white-space:pre;overflow-x:auto;line-height:normal;font-family:Menlo,'DejaVu Sans Mono',consolas,'Courier New',monospace\"><span style=\"font-weight: bold\"> Trainable params: </span><span style=\"color: #00af00; text-decoration-color: #00af00\">204,867</span> (800.26 KB)\n",
              "</pre>\n"
            ]
          },
          "metadata": {}
        },
        {
          "output_type": "display_data",
          "data": {
            "text/plain": [
              "\u001b[1m Non-trainable params: \u001b[0m\u001b[38;5;34m0\u001b[0m (0.00 B)\n"
            ],
            "text/html": [
              "<pre style=\"white-space:pre;overflow-x:auto;line-height:normal;font-family:Menlo,'DejaVu Sans Mono',consolas,'Courier New',monospace\"><span style=\"font-weight: bold\"> Non-trainable params: </span><span style=\"color: #00af00; text-decoration-color: #00af00\">0</span> (0.00 B)\n",
              "</pre>\n"
            ]
          },
          "metadata": {}
        }
      ]
    },
    {
      "cell_type": "code",
      "source": [
        "# Training model\n",
        "history = model.fit(\n",
        "    x=[train_data['user'], train_data['movie']],\n",
        "    y=train_data['Rating'],\n",
        "    batch_size=64,\n",
        "    epochs=20,\n",
        "    validation_data=([test_data['user'], test_data['movie']], test_data['Rating']),\n",
        "    verbose=1\n",
        ")"
      ],
      "metadata": {
        "colab": {
          "base_uri": "https://localhost:8080/"
        },
        "id": "7nBqg_7QVsvg",
        "outputId": "588e87f5-f8f7-4fc7-f648-67efca28ed28"
      },
      "execution_count": 104,
      "outputs": [
        {
          "output_type": "stream",
          "name": "stdout",
          "text": [
            "Epoch 1/20\n",
            "\u001b[1m3411/3411\u001b[0m \u001b[32m━━━━━━━━━━━━━━━━━━━━\u001b[0m\u001b[37m\u001b[0m \u001b[1m16s\u001b[0m 4ms/step - loss: 2.5055 - root_mean_squared_error: 2.8680 - val_loss: 0.5719 - val_root_mean_squared_error: 0.7206\n",
            "Epoch 2/20\n",
            "\u001b[1m3411/3411\u001b[0m \u001b[32m━━━━━━━━━━━━━━━━━━━━\u001b[0m\u001b[37m\u001b[0m \u001b[1m14s\u001b[0m 4ms/step - loss: 0.5605 - root_mean_squared_error: 0.7022 - val_loss: 0.5581 - val_root_mean_squared_error: 0.6967\n",
            "Epoch 3/20\n",
            "\u001b[1m3411/3411\u001b[0m \u001b[32m━━━━━━━━━━━━━━━━━━━━\u001b[0m\u001b[37m\u001b[0m \u001b[1m14s\u001b[0m 4ms/step - loss: 0.5447 - root_mean_squared_error: 0.6789 - val_loss: 0.5527 - val_root_mean_squared_error: 0.6895\n",
            "Epoch 4/20\n",
            "\u001b[1m3411/3411\u001b[0m \u001b[32m━━━━━━━━━━━━━━━━━━━━\u001b[0m\u001b[37m\u001b[0m \u001b[1m13s\u001b[0m 4ms/step - loss: 0.5317 - root_mean_squared_error: 0.6645 - val_loss: 0.5444 - val_root_mean_squared_error: 0.6793\n",
            "Epoch 5/20\n",
            "\u001b[1m3411/3411\u001b[0m \u001b[32m━━━━━━━━━━━━━━━━━━━━\u001b[0m\u001b[37m\u001b[0m \u001b[1m14s\u001b[0m 4ms/step - loss: 0.5166 - root_mean_squared_error: 0.6476 - val_loss: 0.5409 - val_root_mean_squared_error: 0.6762\n",
            "Epoch 6/20\n",
            "\u001b[1m3411/3411\u001b[0m \u001b[32m━━━━━━━━━━━━━━━━━━━━\u001b[0m\u001b[37m\u001b[0m \u001b[1m19s\u001b[0m 4ms/step - loss: 0.4978 - root_mean_squared_error: 0.6282 - val_loss: 0.5377 - val_root_mean_squared_error: 0.6733\n",
            "Epoch 7/20\n",
            "\u001b[1m3411/3411\u001b[0m \u001b[32m━━━━━━━━━━━━━━━━━━━━\u001b[0m\u001b[37m\u001b[0m \u001b[1m13s\u001b[0m 4ms/step - loss: 0.4787 - root_mean_squared_error: 0.6095 - val_loss: 0.5373 - val_root_mean_squared_error: 0.6727\n",
            "Epoch 8/20\n",
            "\u001b[1m3411/3411\u001b[0m \u001b[32m━━━━━━━━━━━━━━━━━━━━\u001b[0m\u001b[37m\u001b[0m \u001b[1m21s\u001b[0m 4ms/step - loss: 0.4550 - root_mean_squared_error: 0.5843 - val_loss: 0.5404 - val_root_mean_squared_error: 0.6777\n",
            "Epoch 9/20\n",
            "\u001b[1m3411/3411\u001b[0m \u001b[32m━━━━━━━━━━━━━━━━━━━━\u001b[0m\u001b[37m\u001b[0m \u001b[1m14s\u001b[0m 4ms/step - loss: 0.4324 - root_mean_squared_error: 0.5619 - val_loss: 0.5421 - val_root_mean_squared_error: 0.6795\n",
            "Epoch 10/20\n",
            "\u001b[1m3411/3411\u001b[0m \u001b[32m━━━━━━━━━━━━━━━━━━━━\u001b[0m\u001b[37m\u001b[0m \u001b[1m14s\u001b[0m 4ms/step - loss: 0.4112 - root_mean_squared_error: 0.5398 - val_loss: 0.5481 - val_root_mean_squared_error: 0.6879\n",
            "Epoch 11/20\n",
            "\u001b[1m3411/3411\u001b[0m \u001b[32m━━━━━━━━━━━━━━━━━━━━\u001b[0m\u001b[37m\u001b[0m \u001b[1m12s\u001b[0m 4ms/step - loss: 0.3934 - root_mean_squared_error: 0.5212 - val_loss: 0.5554 - val_root_mean_squared_error: 0.6965\n",
            "Epoch 12/20\n",
            "\u001b[1m3411/3411\u001b[0m \u001b[32m━━━━━━━━━━━━━━━━━━━━\u001b[0m\u001b[37m\u001b[0m \u001b[1m13s\u001b[0m 4ms/step - loss: 0.3773 - root_mean_squared_error: 0.5056 - val_loss: 0.5597 - val_root_mean_squared_error: 0.7027\n",
            "Epoch 13/20\n",
            "\u001b[1m3411/3411\u001b[0m \u001b[32m━━━━━━━━━━━━━━━━━━━━\u001b[0m\u001b[37m\u001b[0m \u001b[1m20s\u001b[0m 4ms/step - loss: 0.3624 - root_mean_squared_error: 0.4900 - val_loss: 0.5672 - val_root_mean_squared_error: 0.7132\n",
            "Epoch 14/20\n",
            "\u001b[1m3411/3411\u001b[0m \u001b[32m━━━━━━━━━━━━━━━━━━━━\u001b[0m\u001b[37m\u001b[0m \u001b[1m13s\u001b[0m 4ms/step - loss: 0.3515 - root_mean_squared_error: 0.4798 - val_loss: 0.5720 - val_root_mean_squared_error: 0.7193\n",
            "Epoch 15/20\n",
            "\u001b[1m3411/3411\u001b[0m \u001b[32m━━━━━━━━━━━━━━━━━━━━\u001b[0m\u001b[37m\u001b[0m \u001b[1m20s\u001b[0m 4ms/step - loss: 0.3409 - root_mean_squared_error: 0.4687 - val_loss: 0.5775 - val_root_mean_squared_error: 0.7265\n",
            "Epoch 16/20\n",
            "\u001b[1m3411/3411\u001b[0m \u001b[32m━━━━━━━━━━━━━━━━━━━━\u001b[0m\u001b[37m\u001b[0m \u001b[1m14s\u001b[0m 4ms/step - loss: 0.3342 - root_mean_squared_error: 0.4631 - val_loss: 0.5834 - val_root_mean_squared_error: 0.7344\n",
            "Epoch 17/20\n",
            "\u001b[1m3411/3411\u001b[0m \u001b[32m━━━━━━━━━━━━━━━━━━━━\u001b[0m\u001b[37m\u001b[0m \u001b[1m20s\u001b[0m 4ms/step - loss: 0.3283 - root_mean_squared_error: 0.4578 - val_loss: 0.5882 - val_root_mean_squared_error: 0.7404\n",
            "Epoch 18/20\n",
            "\u001b[1m3411/3411\u001b[0m \u001b[32m━━━━━━━━━━━━━━━━━━━━\u001b[0m\u001b[37m\u001b[0m \u001b[1m13s\u001b[0m 4ms/step - loss: 0.3222 - root_mean_squared_error: 0.4512 - val_loss: 0.5940 - val_root_mean_squared_error: 0.7488\n",
            "Epoch 19/20\n",
            "\u001b[1m3411/3411\u001b[0m \u001b[32m━━━━━━━━━━━━━━━━━━━━\u001b[0m\u001b[37m\u001b[0m \u001b[1m14s\u001b[0m 4ms/step - loss: 0.3173 - root_mean_squared_error: 0.4469 - val_loss: 0.5987 - val_root_mean_squared_error: 0.7539\n",
            "Epoch 20/20\n",
            "\u001b[1m3411/3411\u001b[0m \u001b[32m━━━━━━━━━━━━━━━━━━━━\u001b[0m\u001b[37m\u001b[0m \u001b[1m13s\u001b[0m 4ms/step - loss: 0.3111 - root_mean_squared_error: 0.4411 - val_loss: 0.6014 - val_root_mean_squared_error: 0.7582\n"
          ]
        }
      ]
    },
    {
      "cell_type": "code",
      "source": [
        "import numpy as np\n",
        "\n",
        "# Pilih satu user untuk diberikan rekomendasi\n",
        "target_user_id = 10  # ganti dengan ID user yang ingin diuji (dalam bentuk UserID asli) - Menggunakan user yang ada di filtered_data_top_users_rating_5\n",
        "\n",
        "# Encode user ID (harus disesuaikan dengan LabelEncoder yang digunakan)\n",
        "# Tambahkan pengecekan apakah user_id ada dalam encoder classes\n",
        "if target_user_id not in user_encoder.classes_:\n",
        "    print(f\"User {target_user_id} tidak ditemukan dalam data yang digunakan untuk encoding.\")\n",
        "else:\n",
        "    encoded_user_id = user_encoder.transform([target_user_id])[0]\n",
        "\n",
        "    # Ambil daftar semua movieID (yang sudah melalui encoding) dari filtered_data_top_users_rating_5\n",
        "    all_movie_ids = filtered_data_top_users_rating_5['movie'].unique()\n",
        "\n",
        "    # Ambil daftar movie yang sudah ditonton user\n",
        "    # Pastikan menggunakan dataframe yang sesuai dengan encoding, yaitu filtered_data_top_users_rating_5\n",
        "    watched_movie_ids = filtered_data_top_users_rating_5[filtered_data_top_users_rating_5['user'] == encoded_user_id]['movie'].tolist()\n",
        "\n",
        "\n",
        "    # Ambil daftar movie yang belum ditonton\n",
        "    unwatched_movie_ids = [movie_id for movie_id in all_movie_ids if movie_id not in watched_movie_ids]\n",
        "\n",
        "    # Buat DataFrame untuk prediksi\n",
        "    user_array = np.array([encoded_user_id] * len(unwatched_movie_ids))\n",
        "    movie_array = np.array(unwatched_movie_ids)\n",
        "\n",
        "    # Prediksi rating untuk semua film yang belum ditonton user tersebut\n",
        "    predicted_ratings = model.predict([user_array, movie_array], verbose=0)\n",
        "\n",
        "    # Buat DataFrame hasil prediksi\n",
        "    recommendations = pd.DataFrame({\n",
        "        'movie': movie_array,\n",
        "        'predicted_rating': predicted_ratings.flatten()\n",
        "    })\n",
        "\n",
        "    # Urutkan berdasarkan skor prediksi tertinggi\n",
        "    recommendations = recommendations.sort_values(by='predicted_rating', ascending=False).head()\n",
        "\n",
        "    # Decode movie ID asli\n",
        "    recommendations['MovieID'] = movie_encoder.inverse_transform(recommendations['movie'])\n",
        "\n",
        "    # Gabungkan dengan metadata film\n",
        "    # Pastikan menggunakan dataframe movies yang belum di-index ulang jika ada\n",
        "    top_movies = recommendations.merge(movies[['MovieID', 'Title', 'Genres']], on='MovieID', how='left')\n",
        "\n",
        "    # Tampilkan hasil\n",
        "    print(top_movies[['MovieID', 'Title', 'Genres', 'predicted_rating']])"
      ],
      "metadata": {
        "colab": {
          "base_uri": "https://localhost:8080/"
        },
        "id": "FfxgG63y4h9z",
        "outputId": "f040edb7-f578-4995-eee7-8b647f9eb8fa"
      },
      "execution_count": 106,
      "outputs": [
        {
          "output_type": "stream",
          "name": "stdout",
          "text": [
            "   MovieID                                       Title            Genres  \\\n",
            "0     3028             Taming of the Shrew, The (1967)            Comedy   \n",
            "1       29           City of Lost Children, The (1995)  Adventure|Sci-Fi   \n",
            "2     2357  Central Station (Central do Brasil) (1998)             Drama   \n",
            "3     3111                  Places in the Heart (1984)             Drama   \n",
            "4      290                   Once Were Warriors (1994)       Crime|Drama   \n",
            "\n",
            "   predicted_rating  \n",
            "0          6.128677  \n",
            "1          6.019066  \n",
            "2          5.991943  \n",
            "3          5.856194  \n",
            "4          5.843888  \n"
          ]
        }
      ]
    },
    {
      "cell_type": "markdown",
      "source": [
        "## 🤖 Modeling and Result\n",
        "\n",
        "Pada tahap ini, dilakukan pembangunan sistem rekomendasi dengan pendekatan **Collaborative Filtering** menggunakan model Neural Network berbasis **embedding**.\n",
        "\n",
        "Langkah-langkah utama dalam proses modeling adalah sebagai berikut:\n",
        "\n",
        "- Melakukan **encoding** terhadap `UserID` dan `MovieID` menjadi integer menggunakan `LabelEncoder`.\n",
        "- Membagi dataset menjadi data latih dan data uji dengan perbandingan 80:20.\n",
        "- Membuat arsitektur model:\n",
        "  - Dua layer **embedding** untuk merepresentasikan pengguna dan item dalam ruang vektor berdimensi rendah.\n",
        "  - Operasi **dot product** untuk mengukur kesamaan antara pengguna dan item.\n",
        "  - Penambahan **user bias** dan **movie bias** untuk memperbaiki representasi skor.\n",
        "  - Fungsi aktivasi menggunakan **linear** karena target rating bersifat kontinu.\n",
        "- Menggunakan fungsi loss **Mean Absolute Error (MAE)** dan **Root Mean Squared Error (RMSE)** sebagai metrik evaluasi.\n",
        "- Melatih model selama beberapa epoch hingga didapatkan performa optimal.\n",
        "\n",
        "Model ini bertujuan untuk mempelajari representasi laten dari pengguna dan film agar dapat memprediksi rating yang mungkin diberikan pengguna terhadap film yang belum ditonton.\n",
        "\n",
        "Setelah model dilatih, dilakukan proses **Top-N Recommendation** untuk memberikan rekomendasi film terbaik bagi pengguna berdasarkan prediksi skor tertinggi dari model. Hasil rekomendasi mencakup informasi judul film, genre, dan MovieID-nya.\n"
      ],
      "metadata": {
        "id": "DSYlua6fAxoM"
      }
    },
    {
      "cell_type": "markdown",
      "source": [
        "# Evaluation"
      ],
      "metadata": {
        "id": "4eiwkc5t3p6O"
      }
    },
    {
      "cell_type": "code",
      "source": [
        "from sklearn.metrics import mean_squared_error, mean_absolute_error\n",
        "import numpy as np\n",
        "\n",
        "# Prediksi rating pada data uji\n",
        "# Try passing the dataframe columns directly, similar to model.evaluate\n",
        "y_pred = model.predict([test_data['user'].values, test_data['movie'].values])\n",
        "y_true = test_data['Rating'].values\n",
        "\n",
        "# Hitung metrik evaluasi\n",
        "rmse = np.sqrt(mean_squared_error(y_true, y_pred))\n",
        "mae = mean_absolute_error(y_true, y_pred)\n",
        "\n",
        "print(f\"RMSE on test set: {rmse:.4f}\")\n",
        "print(f\"MAE on test set: {mae:.4f}\")"
      ],
      "metadata": {
        "colab": {
          "base_uri": "https://localhost:8080/"
        },
        "id": "p4uDc6KzBtXA",
        "outputId": "1c434667-f02a-4b05-c155-e0c9f6e2f539"
      },
      "execution_count": 109,
      "outputs": [
        {
          "output_type": "stream",
          "name": "stdout",
          "text": [
            "\u001b[1m1706/1706\u001b[0m \u001b[32m━━━━━━━━━━━━━━━━━━━━\u001b[0m\u001b[37m\u001b[0m \u001b[1m2s\u001b[0m 1ms/step\n",
            "RMSE on test set: 0.7582\n",
            "MAE on test set: 0.6014\n"
          ]
        }
      ]
    },
    {
      "cell_type": "code",
      "source": [
        "import matplotlib.pyplot as plt\n",
        "\n",
        "plt.plot(history.history['loss'], label='Train Loss')\n",
        "plt.plot(history.history['val_loss'], label='Val Loss')\n",
        "plt.legend()\n",
        "plt.title(\"Training & Validation Loss\")\n",
        "plt.xlabel(\"Epoch\")\n",
        "plt.ylabel(\"MSE\")\n",
        "plt.show()"
      ],
      "metadata": {
        "colab": {
          "base_uri": "https://localhost:8080/",
          "height": 472
        },
        "id": "bLzuOurtV6lS",
        "outputId": "454cd6bf-47ae-4187-b831-368c305cb090"
      },
      "execution_count": 112,
      "outputs": [
        {
          "output_type": "display_data",
          "data": {
            "text/plain": [
              "<Figure size 640x480 with 1 Axes>"
            ],
            "image/png": "[encoded data removed]"
          },
          "metadata": {}
        }
      ]
    },
    {
      "cell_type": "code",
      "source": [],
      "metadata": {
        "id": "d8uy84J67RSS"
      },
      "execution_count": null,
      "outputs": []
    }
  ]
}